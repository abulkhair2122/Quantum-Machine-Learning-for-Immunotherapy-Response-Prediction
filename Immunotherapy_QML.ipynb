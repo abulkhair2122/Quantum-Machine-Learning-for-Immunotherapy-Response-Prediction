{
 "cells": [
  {
   "cell_type": "code",
   "execution_count": 121,
   "id": "267ffdc0-84cd-44e7-b912-b3f228c25296",
   "metadata": {},
   "outputs": [],
   "source": [
    "import numpy as np, pandas as pd, matplotlib.pyplot as plt, seaborn as sns"
   ]
  },
  {
   "cell_type": "code",
   "execution_count": 122,
   "id": "18fee900-2ffa-4afa-b32e-bd2cb07632b5",
   "metadata": {},
   "outputs": [
    {
     "data": {
      "text/html": [
       "<div>\n",
       "<style scoped>\n",
       "    .dataframe tbody tr th:only-of-type {\n",
       "        vertical-align: middle;\n",
       "    }\n",
       "\n",
       "    .dataframe tbody tr th {\n",
       "        vertical-align: top;\n",
       "    }\n",
       "\n",
       "    .dataframe thead th {\n",
       "        text-align: right;\n",
       "    }\n",
       "</style>\n",
       "<table border=\"1\" class=\"dataframe\">\n",
       "  <thead>\n",
       "    <tr style=\"text-align: right;\">\n",
       "      <th></th>\n",
       "      <th>SAMPLE_ID</th>\n",
       "      <th>Cancer_type_grouped_2</th>\n",
       "      <th>Cancer_Type2</th>\n",
       "      <th>Cancer_Type</th>\n",
       "      <th>Chemo_before_IO (1:Yes; 0:No)</th>\n",
       "      <th>Age</th>\n",
       "      <th>Sex (1:Male; 0:Female)</th>\n",
       "      <th>BMI</th>\n",
       "      <th>Stage (1:IV; 0:I-III)</th>\n",
       "      <th>Stage at IO start</th>\n",
       "      <th>...</th>\n",
       "      <th>HED</th>\n",
       "      <th>HLA_LOH</th>\n",
       "      <th>MSI (1:Unstable; 0:Stable_Indeterminate)</th>\n",
       "      <th>MSI_SCORE</th>\n",
       "      <th>Response (1:Responder; 0:Non-responder)</th>\n",
       "      <th>OS_Event</th>\n",
       "      <th>OS_Months</th>\n",
       "      <th>PFS_Event</th>\n",
       "      <th>PFS_Months</th>\n",
       "      <th>RF16_prob</th>\n",
       "    </tr>\n",
       "  </thead>\n",
       "  <tbody>\n",
       "    <tr>\n",
       "      <th>0</th>\n",
       "      <td>8461</td>\n",
       "      <td>Bladder</td>\n",
       "      <td>2</td>\n",
       "      <td>Others</td>\n",
       "      <td>1</td>\n",
       "      <td>73.845311</td>\n",
       "      <td>0</td>\n",
       "      <td>22.5</td>\n",
       "      <td>1</td>\n",
       "      <td>IV</td>\n",
       "      <td>...</td>\n",
       "      <td>10.340700</td>\n",
       "      <td>0</td>\n",
       "      <td>0</td>\n",
       "      <td>0.16</td>\n",
       "      <td>0</td>\n",
       "      <td>1</td>\n",
       "      <td>9.067762</td>\n",
       "      <td>1</td>\n",
       "      <td>3.121150</td>\n",
       "      <td>0.223172</td>\n",
       "    </tr>\n",
       "    <tr>\n",
       "      <th>1</th>\n",
       "      <td>8588</td>\n",
       "      <td>Bladder</td>\n",
       "      <td>2</td>\n",
       "      <td>Others</td>\n",
       "      <td>1</td>\n",
       "      <td>68.876112</td>\n",
       "      <td>1</td>\n",
       "      <td>26.9</td>\n",
       "      <td>1</td>\n",
       "      <td>IV</td>\n",
       "      <td>...</td>\n",
       "      <td>4.968692</td>\n",
       "      <td>0</td>\n",
       "      <td>0</td>\n",
       "      <td>0.16</td>\n",
       "      <td>0</td>\n",
       "      <td>1</td>\n",
       "      <td>7.195072</td>\n",
       "      <td>1</td>\n",
       "      <td>2.694045</td>\n",
       "      <td>0.107879</td>\n",
       "    </tr>\n",
       "    <tr>\n",
       "      <th>2</th>\n",
       "      <td>8639</td>\n",
       "      <td>Bladder</td>\n",
       "      <td>2</td>\n",
       "      <td>Others</td>\n",
       "      <td>1</td>\n",
       "      <td>38.696783</td>\n",
       "      <td>1</td>\n",
       "      <td>27.3</td>\n",
       "      <td>1</td>\n",
       "      <td>IV</td>\n",
       "      <td>...</td>\n",
       "      <td>6.850829</td>\n",
       "      <td>0</td>\n",
       "      <td>0</td>\n",
       "      <td>0.26</td>\n",
       "      <td>0</td>\n",
       "      <td>1</td>\n",
       "      <td>12.484600</td>\n",
       "      <td>1</td>\n",
       "      <td>1.215606</td>\n",
       "      <td>0.413048</td>\n",
       "    </tr>\n",
       "    <tr>\n",
       "      <th>3</th>\n",
       "      <td>8738</td>\n",
       "      <td>Bladder</td>\n",
       "      <td>2</td>\n",
       "      <td>Others</td>\n",
       "      <td>1</td>\n",
       "      <td>77.240246</td>\n",
       "      <td>1</td>\n",
       "      <td>25.7</td>\n",
       "      <td>1</td>\n",
       "      <td>IV</td>\n",
       "      <td>...</td>\n",
       "      <td>3.812155</td>\n",
       "      <td>1</td>\n",
       "      <td>0</td>\n",
       "      <td>1.10</td>\n",
       "      <td>0</td>\n",
       "      <td>1</td>\n",
       "      <td>0.788501</td>\n",
       "      <td>1</td>\n",
       "      <td>0.788501</td>\n",
       "      <td>0.083979</td>\n",
       "    </tr>\n",
       "    <tr>\n",
       "      <th>4</th>\n",
       "      <td>8658</td>\n",
       "      <td>Bladder</td>\n",
       "      <td>2</td>\n",
       "      <td>Others</td>\n",
       "      <td>1</td>\n",
       "      <td>53.514031</td>\n",
       "      <td>1</td>\n",
       "      <td>21.5</td>\n",
       "      <td>1</td>\n",
       "      <td>IV</td>\n",
       "      <td>...</td>\n",
       "      <td>3.913444</td>\n",
       "      <td>0</td>\n",
       "      <td>0</td>\n",
       "      <td>0.68</td>\n",
       "      <td>0</td>\n",
       "      <td>1</td>\n",
       "      <td>5.979466</td>\n",
       "      <td>1</td>\n",
       "      <td>1.248460</td>\n",
       "      <td>0.126372</td>\n",
       "    </tr>\n",
       "  </tbody>\n",
       "</table>\n",
       "<p>5 rows × 28 columns</p>\n",
       "</div>"
      ],
      "text/plain": [
       "   SAMPLE_ID Cancer_type_grouped_2  Cancer_Type2 Cancer_Type  \\\n",
       "0       8461               Bladder             2      Others   \n",
       "1       8588               Bladder             2      Others   \n",
       "2       8639               Bladder             2      Others   \n",
       "3       8738               Bladder             2      Others   \n",
       "4       8658               Bladder             2      Others   \n",
       "\n",
       "   Chemo_before_IO (1:Yes; 0:No)        Age  Sex (1:Male; 0:Female)   BMI  \\\n",
       "0                              1  73.845311                       0  22.5   \n",
       "1                              1  68.876112                       1  26.9   \n",
       "2                              1  38.696783                       1  27.3   \n",
       "3                              1  77.240246                       1  25.7   \n",
       "4                              1  53.514031                       1  21.5   \n",
       "\n",
       "   Stage (1:IV; 0:I-III) Stage at IO start  ...        HED  HLA_LOH  \\\n",
       "0                      1                IV  ...  10.340700        0   \n",
       "1                      1                IV  ...   4.968692        0   \n",
       "2                      1                IV  ...   6.850829        0   \n",
       "3                      1                IV  ...   3.812155        1   \n",
       "4                      1                IV  ...   3.913444        0   \n",
       "\n",
       "   MSI (1:Unstable; 0:Stable_Indeterminate)  MSI_SCORE  \\\n",
       "0                                         0       0.16   \n",
       "1                                         0       0.16   \n",
       "2                                         0       0.26   \n",
       "3                                         0       1.10   \n",
       "4                                         0       0.68   \n",
       "\n",
       "   Response (1:Responder; 0:Non-responder) OS_Event  OS_Months  PFS_Event  \\\n",
       "0                                        0        1   9.067762          1   \n",
       "1                                        0        1   7.195072          1   \n",
       "2                                        0        1  12.484600          1   \n",
       "3                                        0        1   0.788501          1   \n",
       "4                                        0        1   5.979466          1   \n",
       "\n",
       "   PFS_Months  RF16_prob  \n",
       "0    3.121150   0.223172  \n",
       "1    2.694045   0.107879  \n",
       "2    1.215606   0.413048  \n",
       "3    0.788501   0.083979  \n",
       "4    1.248460   0.126372  \n",
       "\n",
       "[5 rows x 28 columns]"
      ]
     },
     "execution_count": 122,
     "metadata": {},
     "output_type": "execute_result"
    }
   ],
   "source": [
    "df = pd.read_excel('imm.xlsx')\n",
    "df.head()"
   ]
  },
  {
   "cell_type": "code",
   "execution_count": 123,
   "id": "31bd880f-99f8-4db1-80fe-5e591441ad69",
   "metadata": {},
   "outputs": [
    {
     "data": {
      "text/plain": [
       "(1479, 28)"
      ]
     },
     "execution_count": 123,
     "metadata": {},
     "output_type": "execute_result"
    }
   ],
   "source": [
    "df.shape"
   ]
  },
  {
   "cell_type": "code",
   "execution_count": 124,
   "id": "3d653ea6-17ab-487d-a689-0e3f535be351",
   "metadata": {},
   "outputs": [
    {
     "data": {
      "text/plain": [
       "SAMPLE_ID                                   0\n",
       "Cancer_type_grouped_2                       0\n",
       "Cancer_Type2                                0\n",
       "Cancer_Type                                 0\n",
       "Chemo_before_IO (1:Yes; 0:No)               0\n",
       "Age                                         0\n",
       "Sex (1:Male; 0:Female)                      0\n",
       "BMI                                         0\n",
       "Stage (1:IV; 0:I-III)                       0\n",
       "Stage at IO start                           0\n",
       "NLR                                         0\n",
       "Platelets                                   0\n",
       "HGB                                         0\n",
       "Albumin                                     0\n",
       "Drug (1:Combo; 0:PD1/PDL1orCTLA4)           0\n",
       "Drug_class                                  0\n",
       "TMB                                         0\n",
       "FCNA                                        0\n",
       "HED                                         0\n",
       "HLA_LOH                                     0\n",
       "MSI (1:Unstable; 0:Stable_Indeterminate)    0\n",
       "MSI_SCORE                                   0\n",
       "Response (1:Responder; 0:Non-responder)     0\n",
       "OS_Event                                    0\n",
       "OS_Months                                   0\n",
       "PFS_Event                                   0\n",
       "PFS_Months                                  0\n",
       "RF16_prob                                   0\n",
       "dtype: int64"
      ]
     },
     "execution_count": 124,
     "metadata": {},
     "output_type": "execute_result"
    }
   ],
   "source": [
    "df.isna().sum()"
   ]
  },
  {
   "cell_type": "code",
   "execution_count": 125,
   "id": "d1722ec8-3b38-4e01-b88c-17f26a6f6dd8",
   "metadata": {},
   "outputs": [
    {
     "data": {
      "text/plain": [
       "0"
      ]
     },
     "execution_count": 125,
     "metadata": {},
     "output_type": "execute_result"
    }
   ],
   "source": [
    "df.duplicated().sum()"
   ]
  },
  {
   "cell_type": "code",
   "execution_count": 126,
   "id": "496dc667-67bd-484b-96db-43c8c58e270e",
   "metadata": {},
   "outputs": [
    {
     "data": {
      "text/plain": [
       "3"
      ]
     },
     "execution_count": 126,
     "metadata": {},
     "output_type": "execute_result"
    }
   ],
   "source": [
    "df['Cancer_Type'].nunique()"
   ]
  },
  {
   "cell_type": "code",
   "execution_count": 127,
   "id": "99fdf0ee-7202-4bef-a5ab-ec5356f4baa7",
   "metadata": {},
   "outputs": [
    {
     "data": {
      "text/plain": [
       "Others      755\n",
       "NSCLC       538\n",
       "Melanoma    186\n",
       "Name: Cancer_Type, dtype: int64"
      ]
     },
     "execution_count": 127,
     "metadata": {},
     "output_type": "execute_result"
    }
   ],
   "source": [
    "df['Cancer_Type'].value_counts()"
   ]
  },
  {
   "cell_type": "code",
   "execution_count": 128,
   "id": "47435f0e-69d5-4673-a5ec-91aae6899269",
   "metadata": {},
   "outputs": [
    {
     "data": {
      "text/plain": [
       "2    755\n",
       "1    538\n",
       "0    186\n",
       "Name: Cancer_Type2, dtype: int64"
      ]
     },
     "execution_count": 128,
     "metadata": {},
     "output_type": "execute_result"
    }
   ],
   "source": [
    "df['Cancer_Type2'].value_counts()"
   ]
  },
  {
   "cell_type": "code",
   "execution_count": 129,
   "id": "aa001cda-6250-443a-abf8-2a36ac689fde",
   "metadata": {},
   "outputs": [
    {
     "data": {
      "text/html": [
       "<div>\n",
       "<style scoped>\n",
       "    .dataframe tbody tr th:only-of-type {\n",
       "        vertical-align: middle;\n",
       "    }\n",
       "\n",
       "    .dataframe tbody tr th {\n",
       "        vertical-align: top;\n",
       "    }\n",
       "\n",
       "    .dataframe thead th {\n",
       "        text-align: right;\n",
       "    }\n",
       "</style>\n",
       "<table border=\"1\" class=\"dataframe\">\n",
       "  <thead>\n",
       "    <tr style=\"text-align: right;\">\n",
       "      <th></th>\n",
       "      <th>Cancer_type_grouped_2</th>\n",
       "      <th>Cancer_Type</th>\n",
       "      <th>Chemo_before_IO (1:Yes; 0:No)</th>\n",
       "      <th>Age</th>\n",
       "      <th>Sex (1:Male; 0:Female)</th>\n",
       "      <th>BMI</th>\n",
       "      <th>Stage (1:IV; 0:I-III)</th>\n",
       "      <th>Stage at IO start</th>\n",
       "      <th>NLR</th>\n",
       "      <th>Platelets</th>\n",
       "      <th>...</th>\n",
       "      <th>HED</th>\n",
       "      <th>HLA_LOH</th>\n",
       "      <th>MSI (1:Unstable; 0:Stable_Indeterminate)</th>\n",
       "      <th>MSI_SCORE</th>\n",
       "      <th>Response (1:Responder; 0:Non-responder)</th>\n",
       "      <th>OS_Event</th>\n",
       "      <th>OS_Months</th>\n",
       "      <th>PFS_Event</th>\n",
       "      <th>PFS_Months</th>\n",
       "      <th>RF16_prob</th>\n",
       "    </tr>\n",
       "  </thead>\n",
       "  <tbody>\n",
       "    <tr>\n",
       "      <th>0</th>\n",
       "      <td>Bladder</td>\n",
       "      <td>Others</td>\n",
       "      <td>1</td>\n",
       "      <td>73.845311</td>\n",
       "      <td>0</td>\n",
       "      <td>22.5</td>\n",
       "      <td>1</td>\n",
       "      <td>IV</td>\n",
       "      <td>7.60</td>\n",
       "      <td>158</td>\n",
       "      <td>...</td>\n",
       "      <td>10.340700</td>\n",
       "      <td>0</td>\n",
       "      <td>0</td>\n",
       "      <td>0.16</td>\n",
       "      <td>0</td>\n",
       "      <td>1</td>\n",
       "      <td>9.067762</td>\n",
       "      <td>1</td>\n",
       "      <td>3.121150</td>\n",
       "      <td>0.223172</td>\n",
       "    </tr>\n",
       "    <tr>\n",
       "      <th>1</th>\n",
       "      <td>Bladder</td>\n",
       "      <td>Others</td>\n",
       "      <td>1</td>\n",
       "      <td>68.876112</td>\n",
       "      <td>1</td>\n",
       "      <td>26.9</td>\n",
       "      <td>1</td>\n",
       "      <td>IV</td>\n",
       "      <td>19.29</td>\n",
       "      <td>176</td>\n",
       "      <td>...</td>\n",
       "      <td>4.968692</td>\n",
       "      <td>0</td>\n",
       "      <td>0</td>\n",
       "      <td>0.16</td>\n",
       "      <td>0</td>\n",
       "      <td>1</td>\n",
       "      <td>7.195072</td>\n",
       "      <td>1</td>\n",
       "      <td>2.694045</td>\n",
       "      <td>0.107879</td>\n",
       "    </tr>\n",
       "    <tr>\n",
       "      <th>2</th>\n",
       "      <td>Bladder</td>\n",
       "      <td>Others</td>\n",
       "      <td>1</td>\n",
       "      <td>38.696783</td>\n",
       "      <td>1</td>\n",
       "      <td>27.3</td>\n",
       "      <td>1</td>\n",
       "      <td>IV</td>\n",
       "      <td>1.44</td>\n",
       "      <td>147</td>\n",
       "      <td>...</td>\n",
       "      <td>6.850829</td>\n",
       "      <td>0</td>\n",
       "      <td>0</td>\n",
       "      <td>0.26</td>\n",
       "      <td>0</td>\n",
       "      <td>1</td>\n",
       "      <td>12.484600</td>\n",
       "      <td>1</td>\n",
       "      <td>1.215606</td>\n",
       "      <td>0.413048</td>\n",
       "    </tr>\n",
       "    <tr>\n",
       "      <th>3</th>\n",
       "      <td>Bladder</td>\n",
       "      <td>Others</td>\n",
       "      <td>1</td>\n",
       "      <td>77.240246</td>\n",
       "      <td>1</td>\n",
       "      <td>25.7</td>\n",
       "      <td>1</td>\n",
       "      <td>IV</td>\n",
       "      <td>12.33</td>\n",
       "      <td>365</td>\n",
       "      <td>...</td>\n",
       "      <td>3.812155</td>\n",
       "      <td>1</td>\n",
       "      <td>0</td>\n",
       "      <td>1.10</td>\n",
       "      <td>0</td>\n",
       "      <td>1</td>\n",
       "      <td>0.788501</td>\n",
       "      <td>1</td>\n",
       "      <td>0.788501</td>\n",
       "      <td>0.083979</td>\n",
       "    </tr>\n",
       "    <tr>\n",
       "      <th>4</th>\n",
       "      <td>Bladder</td>\n",
       "      <td>Others</td>\n",
       "      <td>1</td>\n",
       "      <td>53.514031</td>\n",
       "      <td>1</td>\n",
       "      <td>21.5</td>\n",
       "      <td>1</td>\n",
       "      <td>IV</td>\n",
       "      <td>7.64</td>\n",
       "      <td>290</td>\n",
       "      <td>...</td>\n",
       "      <td>3.913444</td>\n",
       "      <td>0</td>\n",
       "      <td>0</td>\n",
       "      <td>0.68</td>\n",
       "      <td>0</td>\n",
       "      <td>1</td>\n",
       "      <td>5.979466</td>\n",
       "      <td>1</td>\n",
       "      <td>1.248460</td>\n",
       "      <td>0.126372</td>\n",
       "    </tr>\n",
       "  </tbody>\n",
       "</table>\n",
       "<p>5 rows × 26 columns</p>\n",
       "</div>"
      ],
      "text/plain": [
       "  Cancer_type_grouped_2 Cancer_Type  Chemo_before_IO (1:Yes; 0:No)        Age  \\\n",
       "0               Bladder      Others                              1  73.845311   \n",
       "1               Bladder      Others                              1  68.876112   \n",
       "2               Bladder      Others                              1  38.696783   \n",
       "3               Bladder      Others                              1  77.240246   \n",
       "4               Bladder      Others                              1  53.514031   \n",
       "\n",
       "   Sex (1:Male; 0:Female)   BMI  Stage (1:IV; 0:I-III) Stage at IO start  \\\n",
       "0                       0  22.5                      1                IV   \n",
       "1                       1  26.9                      1                IV   \n",
       "2                       1  27.3                      1                IV   \n",
       "3                       1  25.7                      1                IV   \n",
       "4                       1  21.5                      1                IV   \n",
       "\n",
       "     NLR  Platelets  ...        HED  HLA_LOH  \\\n",
       "0   7.60        158  ...  10.340700        0   \n",
       "1  19.29        176  ...   4.968692        0   \n",
       "2   1.44        147  ...   6.850829        0   \n",
       "3  12.33        365  ...   3.812155        1   \n",
       "4   7.64        290  ...   3.913444        0   \n",
       "\n",
       "   MSI (1:Unstable; 0:Stable_Indeterminate) MSI_SCORE  \\\n",
       "0                                         0      0.16   \n",
       "1                                         0      0.16   \n",
       "2                                         0      0.26   \n",
       "3                                         0      1.10   \n",
       "4                                         0      0.68   \n",
       "\n",
       "   Response (1:Responder; 0:Non-responder)  OS_Event  OS_Months  PFS_Event  \\\n",
       "0                                        0         1   9.067762          1   \n",
       "1                                        0         1   7.195072          1   \n",
       "2                                        0         1  12.484600          1   \n",
       "3                                        0         1   0.788501          1   \n",
       "4                                        0         1   5.979466          1   \n",
       "\n",
       "   PFS_Months  RF16_prob  \n",
       "0    3.121150   0.223172  \n",
       "1    2.694045   0.107879  \n",
       "2    1.215606   0.413048  \n",
       "3    0.788501   0.083979  \n",
       "4    1.248460   0.126372  \n",
       "\n",
       "[5 rows x 26 columns]"
      ]
     },
     "execution_count": 129,
     "metadata": {},
     "output_type": "execute_result"
    }
   ],
   "source": [
    "df.drop(columns=[\"Cancer_Type2\",\"SAMPLE_ID\"],inplace = True)\n",
    "df.head()"
   ]
  },
  {
   "cell_type": "code",
   "execution_count": 130,
   "id": "a01818e2-2dba-49b6-9172-c87959543aca",
   "metadata": {},
   "outputs": [
    {
     "data": {
      "text/plain": [
       "NSCLC            538\n",
       "Melanoma         186\n",
       "Renal             91\n",
       "Bladder           82\n",
       "Head & Neck       69\n",
       "Sarcoma           67\n",
       "Endometrial       65\n",
       "Gastric           64\n",
       "Hepatobiliary     52\n",
       "SCLC              50\n",
       "Colorectal        46\n",
       "Esophageal        44\n",
       "Pancreatic        35\n",
       "Mesothelioma      34\n",
       "Ovarian           31\n",
       "Breast            25\n",
       "Name: Cancer_type_grouped_2, dtype: int64"
      ]
     },
     "execution_count": 130,
     "metadata": {},
     "output_type": "execute_result"
    }
   ],
   "source": [
    "df['Cancer_type_grouped_2'].value_counts()"
   ]
  },
  {
   "cell_type": "code",
   "execution_count": 131,
   "id": "b0564dab-fec9-47ac-895c-ffc952cd87cf",
   "metadata": {},
   "outputs": [
    {
     "data": {
      "image/png": "[encoded data removed]",
      "text/plain": [
       "<Figure size 1200x500 with 1 Axes>"
      ]
     },
     "metadata": {},
     "output_type": "display_data"
    }
   ],
   "source": [
    "df['Response (1:Responder; 0:Non-responder)'] = df['Response (1:Responder; 0:Non-responder)'].astype(str)\n",
    "\n",
    "plt.figure(figsize=(12,5))\n",
    "plt.xticks(rotation=90)\n",
    "sns.countplot(x='Cancer_type_grouped_2', data=df, hue='Response (1:Responder; 0:Non-responder)')\n",
    "plt.title(\"Cancer Type and their Count\", fontsize=15)\n",
    "plt.ylabel(\"Count\")\n",
    "plt.show()"
   ]
  },
  {
   "cell_type": "code",
   "execution_count": 132,
   "id": "bb491f00-a59d-409c-8d7d-0430891c9f06",
   "metadata": {},
   "outputs": [
    {
     "data": {
      "text/plain": [
       "16"
      ]
     },
     "execution_count": 132,
     "metadata": {},
     "output_type": "execute_result"
    }
   ],
   "source": [
    "df['Cancer_type_grouped_2'].nunique()"
   ]
  },
  {
   "cell_type": "code",
   "execution_count": 133,
   "id": "e0a01386-6c0b-48c5-b54f-2fc296da712f",
   "metadata": {},
   "outputs": [
    {
     "data": {
      "image/png": "[encoded data removed]",
      "text/plain": [
       "<Figure size 1500x600 with 1 Axes>"
      ]
     },
     "metadata": {},
     "output_type": "display_data"
    }
   ],
   "source": [
    "ab = df['Cancer_type_grouped_2'].value_counts()\n",
    "plt.figure(figsize=(15,6))\n",
    "plt.xticks(rotation=90)\n",
    "sns.barplot(x=ab.index, y=ab.values)\n",
    "plt.title(\"Cancer Type and their Count\",fontsize=15)\n",
    "plt.ylabel(\"Count\")\n",
    "plt.xlabel(\"Cancer Type\")\n",
    "plt.show()\n"
   ]
  },
  {
   "cell_type": "code",
   "execution_count": 134,
   "id": "04d8ae56-2848-49c2-9d91-1eadf67a7899",
   "metadata": {},
   "outputs": [
    {
     "data": {
      "text/plain": [
       "Index(['Cancer_type_grouped_2', 'Cancer_Type', 'Chemo_before_IO (1:Yes; 0:No)',\n",
       "       'Age', 'Sex (1:Male; 0:Female)', 'BMI', 'Stage (1:IV; 0:I-III)',\n",
       "       'Stage at IO start', 'NLR', 'Platelets', 'HGB', 'Albumin',\n",
       "       'Drug (1:Combo; 0:PD1/PDL1orCTLA4)', 'Drug_class', 'TMB', 'FCNA', 'HED',\n",
       "       'HLA_LOH', 'MSI (1:Unstable; 0:Stable_Indeterminate)', 'MSI_SCORE',\n",
       "       'Response (1:Responder; 0:Non-responder)', 'OS_Event', 'OS_Months',\n",
       "       'PFS_Event', 'PFS_Months', 'RF16_prob'],\n",
       "      dtype='object')"
      ]
     },
     "execution_count": 134,
     "metadata": {},
     "output_type": "execute_result"
    }
   ],
   "source": [
    "df.columns"
   ]
  },
  {
   "cell_type": "code",
   "execution_count": 135,
   "id": "903ca40e-c631-428b-a825-35fc63705d77",
   "metadata": {},
   "outputs": [
    {
     "name": "stdout",
     "output_type": "stream",
     "text": [
      "<class 'pandas.core.frame.DataFrame'>\n",
      "RangeIndex: 1479 entries, 0 to 1478\n",
      "Data columns (total 26 columns):\n",
      " #   Column                                    Non-Null Count  Dtype  \n",
      "---  ------                                    --------------  -----  \n",
      " 0   Cancer_type_grouped_2                     1479 non-null   object \n",
      " 1   Cancer_Type                               1479 non-null   object \n",
      " 2   Chemo_before_IO (1:Yes; 0:No)             1479 non-null   int64  \n",
      " 3   Age                                       1479 non-null   float64\n",
      " 4   Sex (1:Male; 0:Female)                    1479 non-null   int64  \n",
      " 5   BMI                                       1479 non-null   float64\n",
      " 6   Stage (1:IV; 0:I-III)                     1479 non-null   int64  \n",
      " 7   Stage at IO start                         1479 non-null   object \n",
      " 8   NLR                                       1479 non-null   float64\n",
      " 9   Platelets                                 1479 non-null   int64  \n",
      " 10  HGB                                       1479 non-null   float64\n",
      " 11  Albumin                                   1479 non-null   float64\n",
      " 12  Drug (1:Combo; 0:PD1/PDL1orCTLA4)         1479 non-null   int64  \n",
      " 13  Drug_class                                1479 non-null   object \n",
      " 14  TMB                                       1479 non-null   float64\n",
      " 15  FCNA                                      1479 non-null   float64\n",
      " 16  HED                                       1479 non-null   float64\n",
      " 17  HLA_LOH                                   1479 non-null   int64  \n",
      " 18  MSI (1:Unstable; 0:Stable_Indeterminate)  1479 non-null   int64  \n",
      " 19  MSI_SCORE                                 1479 non-null   float64\n",
      " 20  Response (1:Responder; 0:Non-responder)   1479 non-null   object \n",
      " 21  OS_Event                                  1479 non-null   int64  \n",
      " 22  OS_Months                                 1479 non-null   float64\n",
      " 23  PFS_Event                                 1479 non-null   int64  \n",
      " 24  PFS_Months                                1479 non-null   float64\n",
      " 25  RF16_prob                                 1479 non-null   float64\n",
      "dtypes: float64(12), int64(9), object(5)\n",
      "memory usage: 300.6+ KB\n"
     ]
    }
   ],
   "source": [
    "df.info()"
   ]
  },
  {
   "cell_type": "code",
   "execution_count": 136,
   "id": "68a28983-5794-439d-a64c-f318a2f0184d",
   "metadata": {},
   "outputs": [
    {
     "data": {
      "text/plain": [
       "IV     1382\n",
       "III      87\n",
       "II        9\n",
       "I         1\n",
       "Name: Stage at IO start, dtype: int64"
      ]
     },
     "execution_count": 136,
     "metadata": {},
     "output_type": "execute_result"
    }
   ],
   "source": [
    "df['Stage at IO start'].value_counts()"
   ]
  },
  {
   "cell_type": "code",
   "execution_count": 137,
   "id": "651e5b85-c360-4bd3-a034-f44149f693f3",
   "metadata": {},
   "outputs": [
    {
     "data": {
      "text/plain": [
       "1    1382\n",
       "0      97\n",
       "Name: Stage (1:IV; 0:I-III), dtype: int64"
      ]
     },
     "execution_count": 137,
     "metadata": {},
     "output_type": "execute_result"
    }
   ],
   "source": [
    "df['Stage (1:IV; 0:I-III)'].value_counts()"
   ]
  },
  {
   "cell_type": "code",
   "execution_count": 138,
   "id": "1a53555a-5145-4e11-a0d1-06f3796ec078",
   "metadata": {},
   "outputs": [
    {
     "data": {
      "text/plain": [
       "PD1/PDL1    1221\n",
       "Combo        253\n",
       "CTLA4          5\n",
       "Name: Drug_class, dtype: int64"
      ]
     },
     "execution_count": 138,
     "metadata": {},
     "output_type": "execute_result"
    }
   ],
   "source": [
    "df['Drug_class'].value_counts()"
   ]
  },
  {
   "cell_type": "code",
   "execution_count": 139,
   "id": "00f5d778-3dcb-4ec3-9afe-ca43bed447c5",
   "metadata": {},
   "outputs": [
    {
     "name": "stdout",
     "output_type": "stream",
     "text": [
      "<class 'pandas.core.frame.DataFrame'>\n",
      "RangeIndex: 1479 entries, 0 to 1478\n",
      "Data columns (total 26 columns):\n",
      " #   Column                                    Non-Null Count  Dtype  \n",
      "---  ------                                    --------------  -----  \n",
      " 0   Cancer_type_grouped_2                     1479 non-null   object \n",
      " 1   Cancer_Type                               1479 non-null   object \n",
      " 2   Chemo_before_IO (1:Yes; 0:No)             1479 non-null   int64  \n",
      " 3   Age                                       1479 non-null   float64\n",
      " 4   Sex (1:Male; 0:Female)                    1479 non-null   int64  \n",
      " 5   BMI                                       1479 non-null   float64\n",
      " 6   Stage (1:IV; 0:I-III)                     1479 non-null   int64  \n",
      " 7   Stage at IO start                         1479 non-null   object \n",
      " 8   NLR                                       1479 non-null   float64\n",
      " 9   Platelets                                 1479 non-null   int64  \n",
      " 10  HGB                                       1479 non-null   float64\n",
      " 11  Albumin                                   1479 non-null   float64\n",
      " 12  Drug (1:Combo; 0:PD1/PDL1orCTLA4)         1479 non-null   int64  \n",
      " 13  Drug_class                                1479 non-null   object \n",
      " 14  TMB                                       1479 non-null   float64\n",
      " 15  FCNA                                      1479 non-null   float64\n",
      " 16  HED                                       1479 non-null   float64\n",
      " 17  HLA_LOH                                   1479 non-null   int64  \n",
      " 18  MSI (1:Unstable; 0:Stable_Indeterminate)  1479 non-null   int64  \n",
      " 19  MSI_SCORE                                 1479 non-null   float64\n",
      " 20  Response (1:Responder; 0:Non-responder)   1479 non-null   object \n",
      " 21  OS_Event                                  1479 non-null   int64  \n",
      " 22  OS_Months                                 1479 non-null   float64\n",
      " 23  PFS_Event                                 1479 non-null   int64  \n",
      " 24  PFS_Months                                1479 non-null   float64\n",
      " 25  RF16_prob                                 1479 non-null   float64\n",
      "dtypes: float64(12), int64(9), object(5)\n",
      "memory usage: 300.6+ KB\n"
     ]
    }
   ],
   "source": [
    "df.info()"
   ]
  },
  {
   "cell_type": "code",
   "execution_count": 140,
   "id": "502393ac-6b22-40ac-9a3e-56e947a402b4",
   "metadata": {},
   "outputs": [
    {
     "data": {
      "image/png": "[encoded data removed]",
      "text/plain": [
       "<Figure size 1200x500 with 1 Axes>"
      ]
     },
     "metadata": {},
     "output_type": "display_data"
    }
   ],
   "source": [
    "plt.figure(figsize=(12,5))\n",
    "plt.xticks(rotation=90)\n",
    "sns.countplot(x='Chemo_before_IO (1:Yes; 0:No)', data=df, hue='Response (1:Responder; 0:Non-responder)')\n",
    "plt.title(\"Stage and their Count\", fontsize=15)\n",
    "plt.ylabel(\"Count\")\n",
    "plt.xlabel(\"Chemo_before_IO (1:Yes; 0:No)\")\n",
    "plt.show()\n"
   ]
  },
  {
   "cell_type": "code",
   "execution_count": 141,
   "id": "b35df288-17a8-43e0-a92f-3941e31b2993",
   "metadata": {},
   "outputs": [
    {
     "data": {
      "image/png": "[encoded data removed]",
      "text/plain": [
       "<Figure size 1200x500 with 1 Axes>"
      ]
     },
     "metadata": {},
     "output_type": "display_data"
    }
   ],
   "source": [
    "plt.figure(figsize=(12,5))\n",
    "plt.xticks(rotation=90)\n",
    "sns.countplot(x='Sex (1:Male; 0:Female)', data=df, hue='Response (1:Responder; 0:Non-responder)')\n",
    "plt.title(\"Sex (1:Male; 0:Female) and their Count\", fontsize=15)\n",
    "plt.ylabel(\"Count\")\n",
    "plt.xlabel(\"Sex (1:Male; 0:Female)\")\n",
    "plt.show()\n"
   ]
  },
  {
   "cell_type": "code",
   "execution_count": 142,
   "id": "cfe112a0-df57-4fa2-aea2-99e722b6f086",
   "metadata": {},
   "outputs": [
    {
     "data": {
      "image/png": "[encoded data removed]",
      "text/plain": [
       "<Figure size 1200x500 with 1 Axes>"
      ]
     },
     "metadata": {},
     "output_type": "display_data"
    }
   ],
   "source": [
    "plt.figure(figsize=(12,5))\n",
    "sns.countplot(x='Drug (1:Combo; 0:PD1/PDL1orCTLA4)', data=df, hue='Response (1:Responder; 0:Non-responder)')\n",
    "plt.title(\"Drug (1:Combo; 0:PD1/PDL1orCTLA4) and their Count\", fontsize=15)\n",
    "plt.ylabel(\"Count\")\n",
    "plt.xlabel(\"Drug (1:Combo; 0:PD1/PDL1orCTLA4)\")\n",
    "plt.show()"
   ]
  },
  {
   "cell_type": "code",
   "execution_count": 143,
   "id": "1e69fcf3-40d0-477b-81bd-2793898fb0c8",
   "metadata": {},
   "outputs": [
    {
     "data": {
      "text/plain": [
       "(1479, 26)"
      ]
     },
     "execution_count": 143,
     "metadata": {},
     "output_type": "execute_result"
    }
   ],
   "source": [
    "df.shape"
   ]
  },
  {
   "cell_type": "code",
   "execution_count": 144,
   "id": "b4a2eaa0-ddb8-4168-a0b0-54b58f29f884",
   "metadata": {},
   "outputs": [
    {
     "data": {
      "image/png": "[encoded data removed]",
      "text/plain": [
       "<Figure size 2800x1500 with 2 Axes>"
      ]
     },
     "metadata": {},
     "output_type": "display_data"
    }
   ],
   "source": [
    "numeric_df = df.select_dtypes(include=[np.number])\n",
    "\n",
    "plt.figure(figsize=(28, 15))\n",
    "sns.heatmap(numeric_df.corr(), annot=True, cmap='Blues')\n",
    "plt.show()"
   ]
  },
  {
   "cell_type": "code",
   "execution_count": 145,
   "id": "7c2b41d0-12af-4ac6-9b96-5d85985e5bc4",
   "metadata": {},
   "outputs": [
    {
     "data": {
      "text/plain": [
       "count    1479.000000\n",
       "mean        1.401738\n",
       "std         4.449446\n",
       "min         0.000000\n",
       "25%         0.060000\n",
       "50%         0.270000\n",
       "75%         1.045000\n",
       "max        48.280000\n",
       "Name: MSI_SCORE, dtype: float64"
      ]
     },
     "execution_count": 145,
     "metadata": {},
     "output_type": "execute_result"
    }
   ],
   "source": [
    "df['MSI_SCORE'].describe().T"
   ]
  },
  {
   "cell_type": "code",
   "execution_count": 146,
   "id": "20ba4412-2a26-4f3b-a5f5-723f063e271a",
   "metadata": {},
   "outputs": [],
   "source": [
    "X = df.drop(columns='Response (1:Responder; 0:Non-responder)')\n",
    "y = df['Response (1:Responder; 0:Non-responder)']"
   ]
  },
  {
   "cell_type": "code",
   "execution_count": 147,
   "id": "a182b38e-5cf3-4e90-ad59-34dde02ade00",
   "metadata": {
    "scrolled": true
   },
   "outputs": [
    {
     "data": {
      "text/plain": [
       "['preprocessor.joblib']"
      ]
     },
     "execution_count": 147,
     "metadata": {},
     "output_type": "execute_result"
    }
   ],
   "source": [
    "import pandas as pd\n",
    "import joblib\n",
    "from sklearn.preprocessing import StandardScaler, OneHotEncoder\n",
    "from sklearn.compose import ColumnTransformer\n",
    "\n",
    "# Assuming `initial_df` contains representative data with all necessary columns\n",
    "initial_df = pd.read_excel('imm.xlsx')\n",
    "\n",
    "# Define columns for numeric and categorical features\n",
    "numeric_features = ['Chemo_before_IO (1:Yes; 0:No)', 'Age', 'Sex (1:Male; 0:Female)', 'BMI',\n",
    "                    'Stage (1:IV; 0:I-III)', 'NLR', 'Platelets', 'HGB', 'Albumin',\n",
    "                    'Drug (1:Combo; 0:PD1/PDL1orCTLA4)', 'TMB', 'FCNA', 'HED', 'HLA_LOH',\n",
    "                    'MSI (1:Unstable; 0:Stable_Indeterminate)', 'MSI_SCORE', 'OS_Event',\n",
    "                    'OS_Months', 'PFS_Event', 'PFS_Months', 'RF16_prob']\n",
    "\n",
    "categorical_features = ['Cancer_type_grouped_2', 'Cancer_Type', 'Stage at IO start', 'Drug_class']\n",
    "\n",
    "# Define preprocessing pipeline\n",
    "numeric_transformer = StandardScaler()\n",
    "categorical_transformer = OneHotEncoder(handle_unknown='ignore')\n",
    "\n",
    "preprocessor = ColumnTransformer(\n",
    "    transformers=[\n",
    "        ('numeric', numeric_transformer, numeric_features),\n",
    "        ('categorical', categorical_transformer, categorical_features)\n",
    "    ]\n",
    ")\n",
    "\n",
    "# Fit the preprocessor on the initial dataset\n",
    "X_initial = initial_df.drop('Response (1:Responder; 0:Non-responder)', axis=1)\n",
    "preprocessor.fit(X_initial)\n",
    "\n",
    "# Save the fitted preprocessor for later use\n",
    "joblib.dump(preprocessor, \"preprocessor.joblib\")\n"
   ]
  },
  {
   "cell_type": "code",
   "execution_count": 148,
   "id": "4ef58aa4-5efd-4d8f-9e9b-bc851e1fa92e",
   "metadata": {},
   "outputs": [
    {
     "data": {
      "text/plain": [
       "Index(['Chemo_before_IO (1:Yes; 0:No)', 'Age', 'Sex (1:Male; 0:Female)', 'BMI',\n",
       "       'Stage (1:IV; 0:I-III)', 'NLR', 'Platelets', 'HGB', 'Albumin',\n",
       "       'Drug (1:Combo; 0:PD1/PDL1orCTLA4)', 'TMB', 'FCNA', 'HED', 'HLA_LOH',\n",
       "       'MSI (1:Unstable; 0:Stable_Indeterminate)', 'MSI_SCORE', 'OS_Event',\n",
       "       'OS_Months', 'PFS_Event', 'PFS_Months', 'RF16_prob'],\n",
       "      dtype='object')"
      ]
     },
     "execution_count": 148,
     "metadata": {},
     "output_type": "execute_result"
    }
   ],
   "source": [
    "numeric_features = X.select_dtypes(include='number').columns\n",
    "numeric_features"
   ]
  },
  {
   "cell_type": "code",
   "execution_count": 149,
   "id": "c09a42f5-a9c5-48c5-82df-16a068a95ea4",
   "metadata": {},
   "outputs": [
    {
     "data": {
      "text/plain": [
       "Index(['Cancer_type_grouped_2', 'Cancer_Type', 'Stage at IO start',\n",
       "       'Drug_class'],\n",
       "      dtype='object')"
      ]
     },
     "execution_count": 149,
     "metadata": {},
     "output_type": "execute_result"
    }
   ],
   "source": [
    "categorical_features = X.select_dtypes(exclude='number').columns\n",
    "categorical_features"
   ]
  },
  {
   "cell_type": "code",
   "execution_count": 150,
   "id": "8e5e35d0-e6ad-4514-a8dc-5af993ca4194",
   "metadata": {},
   "outputs": [],
   "source": [
    "X_processed, y = preprocess_data(df)"
   ]
  },
  {
   "cell_type": "code",
   "execution_count": 151,
   "id": "7cedb9be-06d3-4093-a8d6-8b317753eeab",
   "metadata": {},
   "outputs": [],
   "source": [
    "from sklearn.model_selection import train_test_split\n",
    "X_train, X_test, y_train, y_test = train_test_split(X_processed,y,test_size = 0.2,random_state=42)"
   ]
  },
  {
   "cell_type": "code",
   "execution_count": 152,
   "id": "76606049-1c71-4e12-8be7-255748ecbb6c",
   "metadata": {},
   "outputs": [
    {
     "name": "stdout",
     "output_type": "stream",
     "text": [
      "Accuracy Score:0.875 \n",
      " Confusion Matrix: \n",
      " [[204  16]\n",
      " [ 21  55]]\n"
     ]
    },
    {
     "data": {
      "text/html": [
       "<div>\n",
       "<style scoped>\n",
       "    .dataframe tbody tr th:only-of-type {\n",
       "        vertical-align: middle;\n",
       "    }\n",
       "\n",
       "    .dataframe tbody tr th {\n",
       "        vertical-align: top;\n",
       "    }\n",
       "\n",
       "    .dataframe thead th {\n",
       "        text-align: right;\n",
       "    }\n",
       "</style>\n",
       "<table border=\"1\" class=\"dataframe\">\n",
       "  <thead>\n",
       "    <tr style=\"text-align: right;\">\n",
       "      <th></th>\n",
       "      <th>Actual value</th>\n",
       "      <th>Predicted value</th>\n",
       "    </tr>\n",
       "  </thead>\n",
       "  <tbody>\n",
       "    <tr>\n",
       "      <th>0</th>\n",
       "      <td>0</td>\n",
       "      <td>0</td>\n",
       "    </tr>\n",
       "    <tr>\n",
       "      <th>1</th>\n",
       "      <td>0</td>\n",
       "      <td>0</td>\n",
       "    </tr>\n",
       "    <tr>\n",
       "      <th>2</th>\n",
       "      <td>0</td>\n",
       "      <td>0</td>\n",
       "    </tr>\n",
       "    <tr>\n",
       "      <th>3</th>\n",
       "      <td>0</td>\n",
       "      <td>0</td>\n",
       "    </tr>\n",
       "    <tr>\n",
       "      <th>4</th>\n",
       "      <td>0</td>\n",
       "      <td>0</td>\n",
       "    </tr>\n",
       "    <tr>\n",
       "      <th>...</th>\n",
       "      <td>...</td>\n",
       "      <td>...</td>\n",
       "    </tr>\n",
       "    <tr>\n",
       "      <th>291</th>\n",
       "      <td>0</td>\n",
       "      <td>0</td>\n",
       "    </tr>\n",
       "    <tr>\n",
       "      <th>292</th>\n",
       "      <td>1</td>\n",
       "      <td>0</td>\n",
       "    </tr>\n",
       "    <tr>\n",
       "      <th>293</th>\n",
       "      <td>0</td>\n",
       "      <td>0</td>\n",
       "    </tr>\n",
       "    <tr>\n",
       "      <th>294</th>\n",
       "      <td>0</td>\n",
       "      <td>0</td>\n",
       "    </tr>\n",
       "    <tr>\n",
       "      <th>295</th>\n",
       "      <td>1</td>\n",
       "      <td>0</td>\n",
       "    </tr>\n",
       "  </tbody>\n",
       "</table>\n",
       "<p>296 rows × 2 columns</p>\n",
       "</div>"
      ],
      "text/plain": [
       "    Actual value Predicted value\n",
       "0              0               0\n",
       "1              0               0\n",
       "2              0               0\n",
       "3              0               0\n",
       "4              0               0\n",
       "..           ...             ...\n",
       "291            0               0\n",
       "292            1               0\n",
       "293            0               0\n",
       "294            0               0\n",
       "295            1               0\n",
       "\n",
       "[296 rows x 2 columns]"
      ]
     },
     "execution_count": 152,
     "metadata": {},
     "output_type": "execute_result"
    }
   ],
   "source": [
    "from sklearn.linear_model import LogisticRegression\n",
    "lr = LogisticRegression()\n",
    "lr.fit(X_train, y_train)\n",
    "y_pred = lr.predict(X_test)\n",
    "\n",
    "from sklearn.metrics import accuracy_score,confusion_matrix\n",
    "\n",
    "acc_scr_lr = accuracy_score(y_test, y_pred)\n",
    "cm_lr = confusion_matrix(y_test, y_pred)\n",
    "\n",
    "print(f\"Accuracy Score:{acc_scr_lr} \\n Confusion Matrix: \\n {cm_lr}\")\n",
    "\n",
    "diff_lr = pd.DataFrame(np.c_[y_test, y_pred],columns = [\"Actual value\",\"Predicted value\"])\n",
    "diff_lr"
   ]
  },
  {
   "cell_type": "code",
   "execution_count": 153,
   "id": "ad8dd7b7-ed75-42fe-82ad-8b454fb3050a",
   "metadata": {},
   "outputs": [
    {
     "name": "stdout",
     "output_type": "stream",
     "text": [
      "Accuracy Score:0.8614864864864865 \n",
      " Confusion Matrix: \n",
      " [[200  20]\n",
      " [ 21  55]]\n"
     ]
    },
    {
     "data": {
      "text/html": [
       "<div>\n",
       "<style scoped>\n",
       "    .dataframe tbody tr th:only-of-type {\n",
       "        vertical-align: middle;\n",
       "    }\n",
       "\n",
       "    .dataframe tbody tr th {\n",
       "        vertical-align: top;\n",
       "    }\n",
       "\n",
       "    .dataframe thead th {\n",
       "        text-align: right;\n",
       "    }\n",
       "</style>\n",
       "<table border=\"1\" class=\"dataframe\">\n",
       "  <thead>\n",
       "    <tr style=\"text-align: right;\">\n",
       "      <th></th>\n",
       "      <th>Actual value</th>\n",
       "      <th>Predicted value</th>\n",
       "    </tr>\n",
       "  </thead>\n",
       "  <tbody>\n",
       "    <tr>\n",
       "      <th>0</th>\n",
       "      <td>0</td>\n",
       "      <td>0</td>\n",
       "    </tr>\n",
       "    <tr>\n",
       "      <th>1</th>\n",
       "      <td>0</td>\n",
       "      <td>0</td>\n",
       "    </tr>\n",
       "    <tr>\n",
       "      <th>2</th>\n",
       "      <td>0</td>\n",
       "      <td>0</td>\n",
       "    </tr>\n",
       "    <tr>\n",
       "      <th>3</th>\n",
       "      <td>0</td>\n",
       "      <td>0</td>\n",
       "    </tr>\n",
       "    <tr>\n",
       "      <th>4</th>\n",
       "      <td>0</td>\n",
       "      <td>0</td>\n",
       "    </tr>\n",
       "    <tr>\n",
       "      <th>...</th>\n",
       "      <td>...</td>\n",
       "      <td>...</td>\n",
       "    </tr>\n",
       "    <tr>\n",
       "      <th>291</th>\n",
       "      <td>0</td>\n",
       "      <td>0</td>\n",
       "    </tr>\n",
       "    <tr>\n",
       "      <th>292</th>\n",
       "      <td>1</td>\n",
       "      <td>0</td>\n",
       "    </tr>\n",
       "    <tr>\n",
       "      <th>293</th>\n",
       "      <td>0</td>\n",
       "      <td>0</td>\n",
       "    </tr>\n",
       "    <tr>\n",
       "      <th>294</th>\n",
       "      <td>0</td>\n",
       "      <td>0</td>\n",
       "    </tr>\n",
       "    <tr>\n",
       "      <th>295</th>\n",
       "      <td>1</td>\n",
       "      <td>1</td>\n",
       "    </tr>\n",
       "  </tbody>\n",
       "</table>\n",
       "<p>296 rows × 2 columns</p>\n",
       "</div>"
      ],
      "text/plain": [
       "    Actual value Predicted value\n",
       "0              0               0\n",
       "1              0               0\n",
       "2              0               0\n",
       "3              0               0\n",
       "4              0               0\n",
       "..           ...             ...\n",
       "291            0               0\n",
       "292            1               0\n",
       "293            0               0\n",
       "294            0               0\n",
       "295            1               1\n",
       "\n",
       "[296 rows x 2 columns]"
      ]
     },
     "execution_count": 153,
     "metadata": {},
     "output_type": "execute_result"
    }
   ],
   "source": [
    "from sklearn.tree import DecisionTreeClassifier\n",
    "dt = DecisionTreeClassifier()\n",
    "dt.fit(X_train, y_train)\n",
    "y_pred_dt = dt.predict(X_test)\n",
    "\n",
    "from sklearn.metrics import accuracy_score,confusion_matrix\n",
    "\n",
    "acc_scr_dt = accuracy_score(y_test, y_pred_dt)\n",
    "cm_lr_dt = confusion_matrix(y_test, y_pred_dt)\n",
    "\n",
    "print(f\"Accuracy Score:{acc_scr_dt} \\n Confusion Matrix: \\n {cm_lr_dt}\")\n",
    "\n",
    "diff_dt = pd.DataFrame(np.c_[y_test, y_pred_dt],columns = [\"Actual value\",\"Predicted value\"])\n",
    "diff_dt"
   ]
  },
  {
   "cell_type": "code",
   "execution_count": 154,
   "id": "4045427c-b9ec-4100-803c-b18977957b2f",
   "metadata": {},
   "outputs": [
    {
     "data": {
      "text/plain": [
       "['model.joblib']"
      ]
     },
     "execution_count": 154,
     "metadata": {},
     "output_type": "execute_result"
    }
   ],
   "source": [
    "from sklearn.svm import SVC\n",
    "from sklearn.pipeline import make_pipeline\n",
    "\n",
    "# Initialize the SVC with probability enabled\n",
    "model = SVC(probability=True)\n",
    "\n",
    "# Train the model (assuming X_train and y_train are your training data)\n",
    "model.fit(X_train, y_train)\n",
    "\n",
    "# Save the model\n",
    "joblib.dump(model, 'model.joblib')\n"
   ]
  },
  {
   "cell_type": "code",
   "execution_count": 155,
   "id": "f795b23e-6991-461e-a8d1-d259a9bf9ee1",
   "metadata": {},
   "outputs": [
    {
     "name": "stdout",
     "output_type": "stream",
     "text": [
      "Accuracy Score:0.8885135135135135 \n",
      " Confusion Matrix: \n",
      " [[208  12]\n",
      " [ 21  55]]\n"
     ]
    },
    {
     "data": {
      "text/html": [
       "<div>\n",
       "<style scoped>\n",
       "    .dataframe tbody tr th:only-of-type {\n",
       "        vertical-align: middle;\n",
       "    }\n",
       "\n",
       "    .dataframe tbody tr th {\n",
       "        vertical-align: top;\n",
       "    }\n",
       "\n",
       "    .dataframe thead th {\n",
       "        text-align: right;\n",
       "    }\n",
       "</style>\n",
       "<table border=\"1\" class=\"dataframe\">\n",
       "  <thead>\n",
       "    <tr style=\"text-align: right;\">\n",
       "      <th></th>\n",
       "      <th>Actual value</th>\n",
       "      <th>Predicted value</th>\n",
       "    </tr>\n",
       "  </thead>\n",
       "  <tbody>\n",
       "    <tr>\n",
       "      <th>0</th>\n",
       "      <td>0</td>\n",
       "      <td>0</td>\n",
       "    </tr>\n",
       "    <tr>\n",
       "      <th>1</th>\n",
       "      <td>0</td>\n",
       "      <td>0</td>\n",
       "    </tr>\n",
       "    <tr>\n",
       "      <th>2</th>\n",
       "      <td>0</td>\n",
       "      <td>0</td>\n",
       "    </tr>\n",
       "    <tr>\n",
       "      <th>3</th>\n",
       "      <td>0</td>\n",
       "      <td>0</td>\n",
       "    </tr>\n",
       "    <tr>\n",
       "      <th>4</th>\n",
       "      <td>0</td>\n",
       "      <td>0</td>\n",
       "    </tr>\n",
       "    <tr>\n",
       "      <th>...</th>\n",
       "      <td>...</td>\n",
       "      <td>...</td>\n",
       "    </tr>\n",
       "    <tr>\n",
       "      <th>291</th>\n",
       "      <td>0</td>\n",
       "      <td>0</td>\n",
       "    </tr>\n",
       "    <tr>\n",
       "      <th>292</th>\n",
       "      <td>1</td>\n",
       "      <td>0</td>\n",
       "    </tr>\n",
       "    <tr>\n",
       "      <th>293</th>\n",
       "      <td>0</td>\n",
       "      <td>0</td>\n",
       "    </tr>\n",
       "    <tr>\n",
       "      <th>294</th>\n",
       "      <td>0</td>\n",
       "      <td>0</td>\n",
       "    </tr>\n",
       "    <tr>\n",
       "      <th>295</th>\n",
       "      <td>1</td>\n",
       "      <td>1</td>\n",
       "    </tr>\n",
       "  </tbody>\n",
       "</table>\n",
       "<p>296 rows × 2 columns</p>\n",
       "</div>"
      ],
      "text/plain": [
       "    Actual value Predicted value\n",
       "0              0               0\n",
       "1              0               0\n",
       "2              0               0\n",
       "3              0               0\n",
       "4              0               0\n",
       "..           ...             ...\n",
       "291            0               0\n",
       "292            1               0\n",
       "293            0               0\n",
       "294            0               0\n",
       "295            1               1\n",
       "\n",
       "[296 rows x 2 columns]"
      ]
     },
     "execution_count": 155,
     "metadata": {},
     "output_type": "execute_result"
    }
   ],
   "source": [
    "from sklearn.svm import SVC\n",
    "svm = SVC()\n",
    "svm.fit(X_train, y_train)\n",
    "y_pred_svm = svm.predict(X_test)\n",
    "\n",
    "from sklearn.metrics import accuracy_score,confusion_matrix\n",
    "\n",
    "acc_scr_svm = accuracy_score(y_test, y_pred_svm)\n",
    "cm_lr_svm = confusion_matrix(y_test, y_pred_svm)\n",
    "\n",
    "print(f\"Accuracy Score:{acc_scr_svm} \\n Confusion Matrix: \\n {cm_lr_svm}\")\n",
    "\n",
    "diff_svm = pd.DataFrame(np.c_[y_test, y_pred_svm],columns = [\"Actual value\",\"Predicted value\"])\n",
    "diff_svm"
   ]
  },
  {
   "cell_type": "code",
   "execution_count": 156,
   "id": "632b36c7-9faa-46cf-a93f-e5115cf97421",
   "metadata": {},
   "outputs": [
    {
     "name": "stdout",
     "output_type": "stream",
     "text": [
      "Accuracy Score:0.875 \n",
      " Confusion Matrix: \n",
      " [[202  18]\n",
      " [ 19  57]]\n"
     ]
    },
    {
     "data": {
      "text/html": [
       "<div>\n",
       "<style scoped>\n",
       "    .dataframe tbody tr th:only-of-type {\n",
       "        vertical-align: middle;\n",
       "    }\n",
       "\n",
       "    .dataframe tbody tr th {\n",
       "        vertical-align: top;\n",
       "    }\n",
       "\n",
       "    .dataframe thead th {\n",
       "        text-align: right;\n",
       "    }\n",
       "</style>\n",
       "<table border=\"1\" class=\"dataframe\">\n",
       "  <thead>\n",
       "    <tr style=\"text-align: right;\">\n",
       "      <th></th>\n",
       "      <th>Actual value</th>\n",
       "      <th>Predicted value</th>\n",
       "    </tr>\n",
       "  </thead>\n",
       "  <tbody>\n",
       "    <tr>\n",
       "      <th>0</th>\n",
       "      <td>0</td>\n",
       "      <td>0</td>\n",
       "    </tr>\n",
       "    <tr>\n",
       "      <th>1</th>\n",
       "      <td>0</td>\n",
       "      <td>0</td>\n",
       "    </tr>\n",
       "    <tr>\n",
       "      <th>2</th>\n",
       "      <td>0</td>\n",
       "      <td>0</td>\n",
       "    </tr>\n",
       "    <tr>\n",
       "      <th>3</th>\n",
       "      <td>0</td>\n",
       "      <td>0</td>\n",
       "    </tr>\n",
       "    <tr>\n",
       "      <th>4</th>\n",
       "      <td>0</td>\n",
       "      <td>0</td>\n",
       "    </tr>\n",
       "    <tr>\n",
       "      <th>...</th>\n",
       "      <td>...</td>\n",
       "      <td>...</td>\n",
       "    </tr>\n",
       "    <tr>\n",
       "      <th>291</th>\n",
       "      <td>0</td>\n",
       "      <td>0</td>\n",
       "    </tr>\n",
       "    <tr>\n",
       "      <th>292</th>\n",
       "      <td>1</td>\n",
       "      <td>0</td>\n",
       "    </tr>\n",
       "    <tr>\n",
       "      <th>293</th>\n",
       "      <td>0</td>\n",
       "      <td>0</td>\n",
       "    </tr>\n",
       "    <tr>\n",
       "      <th>294</th>\n",
       "      <td>0</td>\n",
       "      <td>0</td>\n",
       "    </tr>\n",
       "    <tr>\n",
       "      <th>295</th>\n",
       "      <td>1</td>\n",
       "      <td>1</td>\n",
       "    </tr>\n",
       "  </tbody>\n",
       "</table>\n",
       "<p>296 rows × 2 columns</p>\n",
       "</div>"
      ],
      "text/plain": [
       "    Actual value Predicted value\n",
       "0              0               0\n",
       "1              0               0\n",
       "2              0               0\n",
       "3              0               0\n",
       "4              0               0\n",
       "..           ...             ...\n",
       "291            0               0\n",
       "292            1               0\n",
       "293            0               0\n",
       "294            0               0\n",
       "295            1               1\n",
       "\n",
       "[296 rows x 2 columns]"
      ]
     },
     "execution_count": 156,
     "metadata": {},
     "output_type": "execute_result"
    }
   ],
   "source": [
    "from sklearn.ensemble import RandomForestClassifier\n",
    "rfr = RandomForestClassifier()\n",
    "rfr.fit(X_train, y_train)\n",
    "y_pred_rfr = rfr.predict(X_test)\n",
    "\n",
    "from sklearn.metrics import accuracy_score,confusion_matrix\n",
    "\n",
    "acc_scr_rfr = accuracy_score(y_test, y_pred_rfr)\n",
    "cm_lr_rfr = confusion_matrix(y_test, y_pred_rfr)\n",
    "\n",
    "print(f\"Accuracy Score:{acc_scr_rfr} \\n Confusion Matrix: \\n {cm_lr_rfr}\")\n",
    "\n",
    "diff_rfr = pd.DataFrame(np.c_[y_test, y_pred_rfr],columns = [\"Actual value\",\"Predicted value\"])\n",
    "diff_rfr"
   ]
  },
  {
   "cell_type": "code",
   "execution_count": 157,
   "id": "68381b62-8b66-4f29-aea2-fed0a4052399",
   "metadata": {},
   "outputs": [],
   "source": [
    "#! pip install lightgbm\n"
   ]
  },
  {
   "cell_type": "code",
   "execution_count": 77,
   "id": "e61d4f82-2b7d-4ecb-b099-9b3c632b56a3",
   "metadata": {},
   "outputs": [
    {
     "name": "stdout",
     "output_type": "stream",
     "text": [
      "[LightGBM] [Info] Number of positive: 333, number of negative: 850\n",
      "[LightGBM] [Info] Auto-choosing row-wise multi-threading, the overhead of testing was 0.000522 seconds.\n",
      "You can set `force_row_wise=true` to remove the overhead.\n",
      "And if memory is not enough, you can set `force_col_wise=true`.\n",
      "[LightGBM] [Info] Total Bins 2666\n",
      "[LightGBM] [Info] Number of data points in the train set: 1183, number of used features: 43\n",
      "[LightGBM] [Info] [binary:BoostFromScore]: pavg=0.281488 -> initscore=-0.937094\n",
      "[LightGBM] [Info] Start training from score -0.937094\n",
      "[LightGBM] [Warning] No further splits with positive gain, best gain: -inf\n",
      "[LightGBM] [Warning] No further splits with positive gain, best gain: -inf\n",
      "[LightGBM] [Warning] No further splits with positive gain, best gain: -inf\n",
      "[LightGBM] [Warning] No further splits with positive gain, best gain: -inf\n",
      "[LightGBM] [Warning] No further splits with positive gain, best gain: -inf\n",
      "[LightGBM] [Warning] No further splits with positive gain, best gain: -inf\n",
      "[LightGBM] [Warning] No further splits with positive gain, best gain: -inf\n",
      "Accuracy Score: 0.8682432432432432\n",
      "Confusion Matrix:\n",
      "[[199  21]\n",
      " [ 18  58]]\n"
     ]
    },
    {
     "data": {
      "text/html": [
       "<div>\n",
       "<style scoped>\n",
       "    .dataframe tbody tr th:only-of-type {\n",
       "        vertical-align: middle;\n",
       "    }\n",
       "\n",
       "    .dataframe tbody tr th {\n",
       "        vertical-align: top;\n",
       "    }\n",
       "\n",
       "    .dataframe thead th {\n",
       "        text-align: right;\n",
       "    }\n",
       "</style>\n",
       "<table border=\"1\" class=\"dataframe\">\n",
       "  <thead>\n",
       "    <tr style=\"text-align: right;\">\n",
       "      <th></th>\n",
       "      <th>Actual value</th>\n",
       "      <th>Predicted value</th>\n",
       "    </tr>\n",
       "  </thead>\n",
       "  <tbody>\n",
       "    <tr>\n",
       "      <th>0</th>\n",
       "      <td>0</td>\n",
       "      <td>1</td>\n",
       "    </tr>\n",
       "    <tr>\n",
       "      <th>1</th>\n",
       "      <td>0</td>\n",
       "      <td>0</td>\n",
       "    </tr>\n",
       "    <tr>\n",
       "      <th>2</th>\n",
       "      <td>0</td>\n",
       "      <td>0</td>\n",
       "    </tr>\n",
       "    <tr>\n",
       "      <th>3</th>\n",
       "      <td>0</td>\n",
       "      <td>0</td>\n",
       "    </tr>\n",
       "    <tr>\n",
       "      <th>4</th>\n",
       "      <td>0</td>\n",
       "      <td>0</td>\n",
       "    </tr>\n",
       "    <tr>\n",
       "      <th>...</th>\n",
       "      <td>...</td>\n",
       "      <td>...</td>\n",
       "    </tr>\n",
       "    <tr>\n",
       "      <th>291</th>\n",
       "      <td>0</td>\n",
       "      <td>0</td>\n",
       "    </tr>\n",
       "    <tr>\n",
       "      <th>292</th>\n",
       "      <td>1</td>\n",
       "      <td>0</td>\n",
       "    </tr>\n",
       "    <tr>\n",
       "      <th>293</th>\n",
       "      <td>0</td>\n",
       "      <td>0</td>\n",
       "    </tr>\n",
       "    <tr>\n",
       "      <th>294</th>\n",
       "      <td>0</td>\n",
       "      <td>0</td>\n",
       "    </tr>\n",
       "    <tr>\n",
       "      <th>295</th>\n",
       "      <td>1</td>\n",
       "      <td>1</td>\n",
       "    </tr>\n",
       "  </tbody>\n",
       "</table>\n",
       "<p>296 rows × 2 columns</p>\n",
       "</div>"
      ],
      "text/plain": [
       "    Actual value Predicted value\n",
       "0              0               1\n",
       "1              0               0\n",
       "2              0               0\n",
       "3              0               0\n",
       "4              0               0\n",
       "..           ...             ...\n",
       "291            0               0\n",
       "292            1               0\n",
       "293            0               0\n",
       "294            0               0\n",
       "295            1               1\n",
       "\n",
       "[296 rows x 2 columns]"
      ]
     },
     "execution_count": 77,
     "metadata": {},
     "output_type": "execute_result"
    }
   ],
   "source": [
    "import lightgbm as lgb\n",
    "\n",
    "lgb_model = lgb.LGBMClassifier()\n",
    "lgb_model.fit(X_train, y_train)\n",
    "\n",
    "# Predict\n",
    "y_pred_lgb = lgb_model.predict(X_test)\n",
    "\n",
    "# Evaluate\n",
    "acc_scr_lgb = accuracy_score(y_test, y_pred_lgb)\n",
    "cm_lgb = confusion_matrix(y_test, y_pred_lgb)\n",
    "\n",
    "print(f\"Accuracy Score: {acc_scr_lgb}\\nConfusion Matrix:\\n{cm_lgb}\")\n",
    "\n",
    "diff_lgb = pd.DataFrame(np.c_[y_test, y_pred_lgb],columns = [\"Actual value\",\"Predicted value\"])\n",
    "diff_lgb"
   ]
  },
  {
   "cell_type": "code",
   "execution_count": 78,
   "id": "93a2edb8-3183-4385-bc07-c31961d013e7",
   "metadata": {},
   "outputs": [],
   "source": [
    "#! pip install catboost"
   ]
  },
  {
   "cell_type": "code",
   "execution_count": 79,
   "id": "85fd3c8d-a22a-4491-89f5-dad3b100136a",
   "metadata": {},
   "outputs": [
    {
     "name": "stdout",
     "output_type": "stream",
     "text": [
      "Accuracy Score: 0.875\n",
      "Confusion Matrix:\n",
      "[[198  22]\n",
      " [ 15  61]]\n"
     ]
    },
    {
     "data": {
      "text/html": [
       "<div>\n",
       "<style scoped>\n",
       "    .dataframe tbody tr th:only-of-type {\n",
       "        vertical-align: middle;\n",
       "    }\n",
       "\n",
       "    .dataframe tbody tr th {\n",
       "        vertical-align: top;\n",
       "    }\n",
       "\n",
       "    .dataframe thead th {\n",
       "        text-align: right;\n",
       "    }\n",
       "</style>\n",
       "<table border=\"1\" class=\"dataframe\">\n",
       "  <thead>\n",
       "    <tr style=\"text-align: right;\">\n",
       "      <th></th>\n",
       "      <th>Actual value</th>\n",
       "      <th>Predicted value</th>\n",
       "    </tr>\n",
       "  </thead>\n",
       "  <tbody>\n",
       "    <tr>\n",
       "      <th>0</th>\n",
       "      <td>0</td>\n",
       "      <td>0</td>\n",
       "    </tr>\n",
       "    <tr>\n",
       "      <th>1</th>\n",
       "      <td>0</td>\n",
       "      <td>0</td>\n",
       "    </tr>\n",
       "    <tr>\n",
       "      <th>2</th>\n",
       "      <td>0</td>\n",
       "      <td>0</td>\n",
       "    </tr>\n",
       "    <tr>\n",
       "      <th>3</th>\n",
       "      <td>0</td>\n",
       "      <td>0</td>\n",
       "    </tr>\n",
       "    <tr>\n",
       "      <th>4</th>\n",
       "      <td>0</td>\n",
       "      <td>0</td>\n",
       "    </tr>\n",
       "    <tr>\n",
       "      <th>...</th>\n",
       "      <td>...</td>\n",
       "      <td>...</td>\n",
       "    </tr>\n",
       "    <tr>\n",
       "      <th>291</th>\n",
       "      <td>0</td>\n",
       "      <td>0</td>\n",
       "    </tr>\n",
       "    <tr>\n",
       "      <th>292</th>\n",
       "      <td>1</td>\n",
       "      <td>0</td>\n",
       "    </tr>\n",
       "    <tr>\n",
       "      <th>293</th>\n",
       "      <td>0</td>\n",
       "      <td>0</td>\n",
       "    </tr>\n",
       "    <tr>\n",
       "      <th>294</th>\n",
       "      <td>0</td>\n",
       "      <td>0</td>\n",
       "    </tr>\n",
       "    <tr>\n",
       "      <th>295</th>\n",
       "      <td>1</td>\n",
       "      <td>1</td>\n",
       "    </tr>\n",
       "  </tbody>\n",
       "</table>\n",
       "<p>296 rows × 2 columns</p>\n",
       "</div>"
      ],
      "text/plain": [
       "    Actual value Predicted value\n",
       "0              0               0\n",
       "1              0               0\n",
       "2              0               0\n",
       "3              0               0\n",
       "4              0               0\n",
       "..           ...             ...\n",
       "291            0               0\n",
       "292            1               0\n",
       "293            0               0\n",
       "294            0               0\n",
       "295            1               1\n",
       "\n",
       "[296 rows x 2 columns]"
      ]
     },
     "execution_count": 79,
     "metadata": {},
     "output_type": "execute_result"
    }
   ],
   "source": [
    "from catboost import CatBoostClassifier\n",
    "\n",
    "cat_model = CatBoostClassifier(iterations=100, learning_rate=0.1, depth=6, verbose=0)\n",
    "cat_model.fit(X_train, y_train)\n",
    "\n",
    "# Predict\n",
    "y_pred_cat = cat_model.predict(X_test)\n",
    "\n",
    "# Evaluate\n",
    "acc_scr_cat = accuracy_score(y_test, y_pred_cat)\n",
    "cm_cat = confusion_matrix(y_test, y_pred_cat)\n",
    "\n",
    "print(f\"Accuracy Score: {acc_scr_cat}\\nConfusion Matrix:\\n{cm_cat}\")\n",
    "\n",
    "diff_cat = pd.DataFrame(np.c_[y_test, y_pred_cat], columns=[\"Actual value\", \"Predicted value\"])\n",
    "diff_cat"
   ]
  },
  {
   "cell_type": "code",
   "execution_count": 80,
   "id": "67cd3794-983c-4ec1-acaf-9858a234bfc7",
   "metadata": {},
   "outputs": [
    {
     "name": "stdout",
     "output_type": "stream",
     "text": [
      "Accuracy Score: 0.8581081081081081\n",
      "Confusion Matrix:\n",
      "[[207  13]\n",
      " [ 29  47]]\n"
     ]
    },
    {
     "data": {
      "text/html": [
       "<div>\n",
       "<style scoped>\n",
       "    .dataframe tbody tr th:only-of-type {\n",
       "        vertical-align: middle;\n",
       "    }\n",
       "\n",
       "    .dataframe tbody tr th {\n",
       "        vertical-align: top;\n",
       "    }\n",
       "\n",
       "    .dataframe thead th {\n",
       "        text-align: right;\n",
       "    }\n",
       "</style>\n",
       "<table border=\"1\" class=\"dataframe\">\n",
       "  <thead>\n",
       "    <tr style=\"text-align: right;\">\n",
       "      <th></th>\n",
       "      <th>Actual value</th>\n",
       "      <th>Predicted value</th>\n",
       "    </tr>\n",
       "  </thead>\n",
       "  <tbody>\n",
       "    <tr>\n",
       "      <th>0</th>\n",
       "      <td>0</td>\n",
       "      <td>0</td>\n",
       "    </tr>\n",
       "    <tr>\n",
       "      <th>1</th>\n",
       "      <td>0</td>\n",
       "      <td>0</td>\n",
       "    </tr>\n",
       "    <tr>\n",
       "      <th>2</th>\n",
       "      <td>0</td>\n",
       "      <td>0</td>\n",
       "    </tr>\n",
       "    <tr>\n",
       "      <th>3</th>\n",
       "      <td>0</td>\n",
       "      <td>0</td>\n",
       "    </tr>\n",
       "    <tr>\n",
       "      <th>4</th>\n",
       "      <td>0</td>\n",
       "      <td>0</td>\n",
       "    </tr>\n",
       "    <tr>\n",
       "      <th>...</th>\n",
       "      <td>...</td>\n",
       "      <td>...</td>\n",
       "    </tr>\n",
       "    <tr>\n",
       "      <th>291</th>\n",
       "      <td>0</td>\n",
       "      <td>0</td>\n",
       "    </tr>\n",
       "    <tr>\n",
       "      <th>292</th>\n",
       "      <td>1</td>\n",
       "      <td>0</td>\n",
       "    </tr>\n",
       "    <tr>\n",
       "      <th>293</th>\n",
       "      <td>0</td>\n",
       "      <td>0</td>\n",
       "    </tr>\n",
       "    <tr>\n",
       "      <th>294</th>\n",
       "      <td>0</td>\n",
       "      <td>0</td>\n",
       "    </tr>\n",
       "    <tr>\n",
       "      <th>295</th>\n",
       "      <td>1</td>\n",
       "      <td>0</td>\n",
       "    </tr>\n",
       "  </tbody>\n",
       "</table>\n",
       "<p>296 rows × 2 columns</p>\n",
       "</div>"
      ],
      "text/plain": [
       "    Actual value Predicted value\n",
       "0              0               0\n",
       "1              0               0\n",
       "2              0               0\n",
       "3              0               0\n",
       "4              0               0\n",
       "..           ...             ...\n",
       "291            0               0\n",
       "292            1               0\n",
       "293            0               0\n",
       "294            0               0\n",
       "295            1               0\n",
       "\n",
       "[296 rows x 2 columns]"
      ]
     },
     "execution_count": 80,
     "metadata": {},
     "output_type": "execute_result"
    }
   ],
   "source": [
    "from sklearn.neighbors import KNeighborsClassifier\n",
    "\n",
    "\n",
    "# Train k-NN model\n",
    "knn_model = KNeighborsClassifier(n_neighbors=5)\n",
    "knn_model.fit(X_train, y_train)\n",
    "\n",
    "# Predict\n",
    "y_pred_knn = knn_model.predict(X_test)\n",
    "\n",
    "# Evaluate\n",
    "acc_sc_knn = accuracy_score(y_test, y_pred_knn)\n",
    "cm_knn = confusion_matrix(y_test, y_pred_knn)\n",
    "\n",
    "print(f\"Accuracy Score: {acc_sc_knn}\\nConfusion Matrix:\\n{cm_knn}\")\n",
    "\n",
    "diff_knn = pd.DataFrame(np.c_[y_test, y_pred_knn], columns=[\"Actual value\", \"Predicted value\"])\n",
    "diff_knn"
   ]
  },
  {
   "cell_type": "code",
   "execution_count": 81,
   "id": "721e2603-bca4-4ced-a3c3-21a023264252",
   "metadata": {},
   "outputs": [
    {
     "data": {
      "text/plain": [
       "Index(['Cancer_type_grouped_2', 'Cancer_Type', 'Chemo_before_IO (1:Yes; 0:No)',\n",
       "       'Age', 'Sex (1:Male; 0:Female)', 'BMI', 'Stage (1:IV; 0:I-III)',\n",
       "       'Stage at IO start', 'NLR', 'Platelets', 'HGB', 'Albumin',\n",
       "       'Drug (1:Combo; 0:PD1/PDL1orCTLA4)', 'Drug_class', 'TMB', 'FCNA', 'HED',\n",
       "       'HLA_LOH', 'MSI (1:Unstable; 0:Stable_Indeterminate)', 'MSI_SCORE',\n",
       "       'Response (1:Responder; 0:Non-responder)', 'OS_Event', 'OS_Months',\n",
       "       'PFS_Event', 'PFS_Months', 'RF16_prob'],\n",
       "      dtype='object')"
      ]
     },
     "execution_count": 81,
     "metadata": {},
     "output_type": "execute_result"
    }
   ],
   "source": [
    "df.columns"
   ]
  },
  {
   "cell_type": "code",
   "execution_count": 82,
   "id": "4f9a34ab-58b2-4491-8b78-04a8e4c9ae65",
   "metadata": {},
   "outputs": [
    {
     "ename": "ModuleNotFoundError",
     "evalue": "No module named 'qiskit'",
     "output_type": "error",
     "traceback": [
      "\u001b[1;31m---------------------------------------------------------------------------\u001b[0m",
      "\u001b[1;31mModuleNotFoundError\u001b[0m                       Traceback (most recent call last)",
      "Cell \u001b[1;32mIn[82], line 7\u001b[0m\n\u001b[0;32m      4\u001b[0m \u001b[38;5;28;01mfrom\u001b[39;00m \u001b[38;5;21;01msklearn\u001b[39;00m\u001b[38;5;21;01m.\u001b[39;00m\u001b[38;5;21;01mmodel_selection\u001b[39;00m \u001b[38;5;28;01mimport\u001b[39;00m train_test_split\n\u001b[0;32m      6\u001b[0m \u001b[38;5;66;03m# Qiskit imports\u001b[39;00m\n\u001b[1;32m----> 7\u001b[0m \u001b[38;5;28;01mfrom\u001b[39;00m \u001b[38;5;21;01mqiskit\u001b[39;00m \u001b[38;5;28;01mimport\u001b[39;00m QuantumCircuit, QuantumRegister, ClassicalRegister, execute, Aer\n\u001b[0;32m      8\u001b[0m \u001b[38;5;28;01mfrom\u001b[39;00m \u001b[38;5;21;01mqiskit\u001b[39;00m\u001b[38;5;21;01m.\u001b[39;00m\u001b[38;5;21;01mcircuit\u001b[39;00m\u001b[38;5;21;01m.\u001b[39;00m\u001b[38;5;21;01mlibrary\u001b[39;00m \u001b[38;5;28;01mimport\u001b[39;00m ZZFeatureMap, RealAmplitudes\n\u001b[0;32m      9\u001b[0m \u001b[38;5;28;01mfrom\u001b[39;00m \u001b[38;5;21;01mqiskit\u001b[39;00m\u001b[38;5;21;01m.\u001b[39;00m\u001b[38;5;21;01mutils\u001b[39;00m \u001b[38;5;28;01mimport\u001b[39;00m QuantumInstance\n",
      "\u001b[1;31mModuleNotFoundError\u001b[0m: No module named 'qiskit'"
     ]
    }
   ],
   "source": [
    "import numpy as np\n",
    "import pandas as pd\n",
    "from sklearn.preprocessing import StandardScaler, LabelEncoder\n",
    "from sklearn.model_selection import train_test_split\n",
    "\n",
    "# Qiskit imports\n",
    "from qiskit import QuantumCircuit, QuantumRegister, ClassicalRegister, execute, Aer\n",
    "from qiskit.circuit.library import ZZFeatureMap, RealAmplitudes\n",
    "from qiskit.utils import QuantumInstance\n",
    "from qiskit_machine_learning.algorithms import VQC\n",
    "from qiskit_machine_learning.algorithms.classifiers import VQC\n",
    "from qiskit.algorithms.optimizers import SPSA\n",
    "from qiskit.circuit import Parameter\n",
    "\n",
    "def preprocess_data(df):\n",
    "    \"\"\"Preprocess the immunotherapy dataset.\"\"\"\n",
    "    # Separate features and target\n",
    "    y = df['Response (1:Responder; 0:Non-responder)'].values\n",
    "    \n",
    "    # Select numerical features\n",
    "    numerical_features = [\n",
    "        'Age', 'BMI', 'NLR', 'Platelets', 'HGB', 'Albumin',\n",
    "        'TMB', 'FCNA', 'HED', 'HLA_LOH', 'MSI_SCORE',\n",
    "        'OS_Months', 'PFS_Months', 'RF16_prob'\n",
    "    ]\n",
    "    \n",
    "    # Select categorical features\n",
    "    categorical_features = [\n",
    "        'Cancer_type_grouped_2', 'Cancer_Type',\n",
    "        'Chemo_before_IO (1:Yes; 0:No)', 'Sex (1:Male; 0:Female)',\n",
    "        'Stage (1:IV; 0:I-III)', 'Stage at IO start',\n",
    "        'Drug (1:Combo; 0:PD1/PDL1orCTLA4)', 'Drug_class',\n",
    "        'MSI (1:Unstable; 0:Stable_Indeterminate)',\n",
    "        'OS_Event', 'PFS_Event'\n",
    "    ]\n",
    "    \n",
    "    # Process numerical features\n",
    "    X_num = df[numerical_features].values\n",
    "    scaler = StandardScaler()\n",
    "    X_num_scaled = scaler.fit_transform(X_num)\n",
    "    \n",
    "    # Process categorical features\n",
    "    X_cat = df[categorical_features].copy()\n",
    "    le_dict = {}\n",
    "    for col in categorical_features:\n",
    "        le = LabelEncoder()\n",
    "        X_cat[col] = le.fit_transform(X_cat[col].astype(str))\n",
    "        le_dict[col] = le\n",
    "    \n",
    "    # Combine numerical and categorical features\n",
    "    X = np.hstack((X_num_scaled, X_cat.values))\n",
    "    \n",
    "    return X, y, scaler, le_dict\n",
    "\n",
    "def create_quantum_circuit(n_qubits, n_layers=2):\n",
    "    \"\"\"Create a variational quantum circuit for classification.\"\"\"\n",
    "    # Feature map circuit\n",
    "    feature_map = ZZFeatureMap(n_qubits)\n",
    "    \n",
    "    # Variational circuit\n",
    "    var_circuit = RealAmplitudes(n_qubits, reps=n_layers)\n",
    "    \n",
    "    # Combine feature map and variational circuit\n",
    "    qc = QuantumCircuit(n_qubits)\n",
    "    qc.compose(feature_map, inplace=True)\n",
    "    qc.compose(var_circuit, inplace=True)\n",
    "    \n",
    "    return qc\n",
    "\n",
    "def create_quantum_classifier(n_features):\n",
    "    \"\"\"Create a Variational Quantum Classifier.\"\"\"\n",
    "    # Define number of qubits needed\n",
    "    n_qubits = int(np.ceil(np.log2(n_features)))\n",
    "    \n",
    "    # Create quantum circuit\n",
    "    qc = create_quantum_circuit(n_qubits)\n",
    "    \n",
    "    # Define quantum instance\n",
    "    quantum_instance = QuantumInstance(\n",
    "        Aer.get_backend('aer_simulator'),\n",
    "        shots=1024,\n",
    "        seed_simulator=42,\n",
    "        seed_transpiler=42\n",
    "    )\n",
    "    \n",
    "    # Define optimizer\n",
    "    optimizer = SPSA(maxiter=100)\n",
    "    \n",
    "    # Create VQC\n",
    "    vqc = VQC(\n",
    "        feature_map=qc.feature_map,\n",
    "        ansatz=qc.var_form,\n",
    "        optimizer=optimizer,\n",
    "        quantum_instance=quantum_instance\n",
    "    )\n",
    "    \n",
    "    return vqc\n",
    "\n",
    "def main(df):\n",
    "    \"\"\"Main function to run the quantum ML pipeline.\"\"\"\n",
    "    # Preprocess data\n",
    "    X, y, scaler, le_dict = preprocess_data(df)\n",
    "    \n",
    "    # Split data\n",
    "    X_train, X_test, y_train, y_test = train_test_split(\n",
    "        X, y, test_size=0.2, random_state=42\n",
    "    )\n",
    "    \n",
    "    # Create and train quantum classifier\n",
    "    vqc = create_quantum_classifier(X.shape[1])\n",
    "    \n",
    "    # Fit the model\n",
    "    vqc.fit(X_train, y_train)\n",
    "    \n",
    "    # Make predictions\n",
    "    y_pred = vqc.predict(X_test)\n",
    "    \n",
    "    # Calculate accuracy\n",
    "    accuracy = np.mean(y_pred == y_test)\n",
    "    \n",
    "    return vqc, accuracy, scaler, le_dict\n",
    "\n",
    "# Function to predict for new patients\n",
    "def predict_new_patient(vqc, patient_data, scaler, le_dict):\n",
    "    \"\"\"Predict response for a new patient.\"\"\"\n",
    "    # Preprocess new patient data\n",
    "    processed_data = preprocess_single_patient(patient_data, scaler, le_dict)\n",
    "    \n",
    "    # Make prediction\n",
    "    prediction = vqc.predict([processed_data])[0]\n",
    "    \n",
    "    return \"Responder\" if prediction == 1 else \"Non-responder\"\n",
    "\n",
    "def preprocess_single_patient(patient_data, scaler, le_dict):\n",
    "    \"\"\"Preprocess single patient data.\"\"\"\n",
    "    numerical_features = ['Chemo_before_IO (1:Yes; 0:No)', 'Age', 'Sex (1:Male; 0:Female)', 'BMI',\n",
    "       'Stage (1:IV; 0:I-III)', 'NLR', 'Platelets', 'HGB', 'Albumin',\n",
    "       'Drug (1:Combo; 0:PD1/PDL1orCTLA4)', 'TMB', 'FCNA', 'HED', 'HLA_LOH',\n",
    "       'MSI (1:Unstable; 0:Stable_Indeterminate)', 'MSI_SCORE', 'OS_Event',\n",
    "       'OS_Months', 'PFS_Event', 'PFS_Months', 'RF16_prob']\n",
    "    \n",
    "    categorical_features = ['Cancer_type_grouped_2', 'Cancer_Type', 'Stage at IO start',\n",
    "       'Drug_class']\n",
    "    \n",
    "    # Process numerical features\n",
    "    num_data = [patient_data[feat] for feat in numerical_features]\n",
    "    scaled_num_data = scaler.transform([num_data])[0]\n",
    "    \n",
    "    # Process categorical features\n",
    "    cat_data = []\n",
    "    for feat in categorical_features:\n",
    "        le = le_dict[feat]\n",
    "        cat_data.append(le.transform([str(patient_data[feat])])[0])\n",
    "    \n",
    "    # Combine features\n",
    "    processed_data = np.hstack((scaled_num_data, cat_data))\n",
    "    \n",
    "    return processed_data"
   ]
  },
  {
   "cell_type": "code",
   "execution_count": null,
   "id": "f419c202-2ea3-49b2-bc70-1b7d7ee11dc3",
   "metadata": {},
   "outputs": [],
   "source": [
    "# First, install required packages\n",
    "'''\n",
    "pip install qiskit qiskit-machine-learning numpy pandas scikit-learn matplotlib seaborn\n",
    "pip install qiskit[machine-learning]\n",
    "pip install qiskit-algorithms\n",
    "'''\n",
    "\n",
    "import numpy as np\n",
    "import pandas as pd\n",
    "from sklearn.model_selection import train_test_split, cross_val_score, GridSearchCV\n",
    "from sklearn.preprocessing import StandardScaler, LabelEncoder\n",
    "from sklearn.metrics import classification_report, confusion_matrix, roc_curve, auc\n",
    "import matplotlib.pyplot as plt\n",
    "import seaborn as sns\n",
    "\n",
    "from qiskit.circuit.library import ZZFeatureMap, RealAmplitudes\n",
    "from qiskit_machine_learning.algorithms import QSVC\n",
    "from qiskit_machine_learning.kernels import FidelityQuantumKernel\n",
    "from qiskit.primitives import Sampler\n",
    "from qiskit_algorithms.state_fidelities import ComputeUncompute\n",
    "from qiskit.algorithms.optimizers import COBYLA\n",
    "\n",
    "class AdvancedQMLImmunotherapy:\n",
    "    def __init__(self, feature_reps=2, feature_map_type='zz'):\n",
    "        self.feature_reps = feature_reps\n",
    "        self.feature_map_type = feature_map_type\n",
    "        self.scaler = StandardScaler()\n",
    "        self.le = LabelEncoder()\n",
    "        \n",
    "    def preprocess_data(self, X, y, test_size=0.2):\n",
    "        # Split data\n",
    "        X_train, X_test, y_train, y_test = train_test_split(X, y, test_size=test_size, random_state=42)\n",
    "        \n",
    "        # Scale features\n",
    "        X_train_scaled = self.scaler.fit_transform(X_train)\n",
    "        X_test_scaled = self.scaler.transform(X_test)\n",
    "        \n",
    "        # Encode labels\n",
    "        y_train_encoded = self.le.fit_transform(y_train)\n",
    "        y_test_encoded = self.le.transform(y_test)\n",
    "        \n",
    "        return X_train_scaled, X_test_scaled, y_train_encoded, y_test_encoded\n",
    "    \n",
    "    def create_feature_map(self, num_features):\n",
    "        if self.feature_map_type == 'zz':\n",
    "            return ZZFeatureMap(\n",
    "                feature_dimension=num_features,\n",
    "                reps=self.feature_reps,\n",
    "                entanglement='linear'\n",
    "            )\n",
    "        else:\n",
    "            return RealAmplitudes(\n",
    "                num_qubits=num_features,\n",
    "                reps=self.feature_reps,\n",
    "                entanglement='linear'\n",
    "            )\n",
    "    \n",
    "    def create_quantum_kernel(self, feature_map):\n",
    "        sampler = Sampler()\n",
    "        fidelity = ComputeUncompute(sampler=sampler)\n",
    "        return FidelityQuantumKernel(\n",
    "            feature_map=feature_map,\n",
    "            fidelity=fidelity\n",
    "        )\n",
    "    \n",
    "    def train_and_evaluate(self, X, y):\n",
    "        # Preprocess data\n",
    "        X_train, X_test, y_train, y_test = self.preprocess_data(X, y)\n",
    "        \n",
    "        # Create feature map\n",
    "        num_features = X_train.shape[1]\n",
    "        feature_map = self.create_feature_map(num_features)\n",
    "        \n",
    "        # Create quantum kernel\n",
    "        quantum_kernel = self.create_quantum_kernel(feature_map)\n",
    "        \n",
    "        # Initialize QSVC with optimizer\n",
    "        optimizer = COBYLA(maxiter=100)\n",
    "        qsvc = QSVC(\n",
    "            quantum_kernel=quantum_kernel,\n",
    "            optimizer=optimizer,\n",
    "            C=1.0\n",
    "        )\n",
    "        \n",
    "        # Train the model\n",
    "        print(\"Training the quantum model...\")\n",
    "        qsvc.fit(X_train, y_train)\n",
    "        \n",
    "        # Make predictions\n",
    "        y_pred = qsvc.predict(X_test)\n",
    "        y_pred_prob = qsvc.predict_proba(X_test)[:, 1]\n",
    "        \n",
    "        # Calculate metrics\n",
    "        accuracy = qsvc.score(X_test, y_test)\n",
    "        \n",
    "        # Generate detailed report\n",
    "        self.generate_report(y_test, y_pred, y_pred_prob)\n",
    "        \n",
    "        return qsvc, accuracy\n",
    "    \n",
    "    def generate_report(self, y_true, y_pred, y_pred_prob):\n",
    "        print(\"\\nClassification Report:\")\n",
    "        print(classification_report(y_true, y_pred))\n",
    "        \n",
    "        # Plot confusion matrix\n",
    "        plt.figure(figsize=(8, 6))\n",
    "        cm = confusion_matrix(y_true, y_pred)\n",
    "        sns.heatmap(cm, annot=True, fmt='d', cmap='Blues')\n",
    "        plt.title('Confusion Matrix')\n",
    "        plt.ylabel('True Label')\n",
    "        plt.xlabel('Predicted Label')\n",
    "        plt.show()\n",
    "        \n",
    "        # Plot ROC curve\n",
    "        fpr, tpr, _ = roc_curve(y_true, y_pred_prob)\n",
    "        roc_auc = auc(fpr, tpr)\n",
    "        \n",
    "        plt.figure(figsize=(8, 6))\n",
    "        plt.plot(fpr, tpr, color='darkorange', lw=2, \n",
    "                label=f'ROC curve (AUC = {roc_auc:.2f})')\n",
    "        plt.plot([0, 1], [0, 1], color='navy', lw=2, linestyle='--')\n",
    "        plt.xlim([0.0, 1.0])\n",
    "        plt.ylim([0.0, 1.05])\n",
    "        plt.xlabel('False Positive Rate')\n",
    "        plt.ylabel('True Positive Rate')\n",
    "        plt.title('Receiver Operating Characteristic (ROC) Curve')\n",
    "        plt.legend(loc=\"lower right\")\n",
    "        plt.show()\n",
    "\n",
    "# Usage example:\n",
    "if __name__ == \"__main__\":\n",
    "    # Assuming df is your DataFrame with 'Response' as target column\n",
    "    X = df.drop(columns='Response')\n",
    "    y = df['Response']\n",
    "    \n",
    "    # Initialize and run the model\n",
    "    qml_model = AdvancedQMLImmunotherapy(feature_reps=2, feature_map_type='zz')\n",
    "    model, accuracy = qml_model.train_and_evaluate(X, y)\n",
    "    \n",
    "    print(f\"\\nFinal Model Accuracy: {accuracy:.4f}\")\n",
    "    "
   ]
  },
  {
   "cell_type": "code",
   "execution_count": null,
   "id": "f1c88101-596c-4dfd-8a6a-96114fc698dc",
   "metadata": {},
   "outputs": [],
   "source": [
    "!pip install qiskit"
   ]
  },
  {
   "cell_type": "code",
   "execution_count": null,
   "id": "454eb9fb-4c22-4aa1-9626-256bad8b30c3",
   "metadata": {},
   "outputs": [],
   "source": [
    "!pip install qiskit-machine-learning\n",
    "!pip install qiskit[machine-learning]\n",
    "!pip install qiskit-algorithms"
   ]
  },
  {
   "cell_type": "code",
   "execution_count": null,
   "id": "559b4ba4-5127-4a04-b16b-0e5aa172115a",
   "metadata": {},
   "outputs": [],
   "source": [
    "!pip install qiskit-machine-learning==0.6.1\n",
    "!pip install qiskit-algorithms==0.2.1"
   ]
  },
  {
   "cell_type": "code",
   "execution_count": null,
   "id": "37b391b2-ccfb-4c9e-9060-f03610b239d9",
   "metadata": {},
   "outputs": [],
   "source": [
    "!python -m pip install --upgrade pip"
   ]
  },
  {
   "cell_type": "code",
   "execution_count": null,
   "id": "35977521-8a16-4de0-8815-e8ce1ba76e75",
   "metadata": {},
   "outputs": [],
   "source": [
    "# Method 1: Using --default-timeout\n",
    "!pip install --default-timeout=100 qiskit qiskit-machine-learning qiskit-algorithms\n",
    "\n",
    "# Method 2: If that doesn't work, try installing with the --index-url flag\n",
    "!pip install --index-url https://pypi.org/simple qiskit qiskit-machine-learning qiskit-algorithms\n",
    "\n",
    "# Method 3: Try installing one by one with increased timeout\n",
    "!pip install --default-timeout=100 qiskit\n",
    "!pip install --default-timeout=100 qiskit-machine-learning\n",
    "!pip install --default-timeout=100 qiskit-algorithms"
   ]
  },
  {
   "cell_type": "code",
   "execution_count": null,
   "id": "9e3e8433-ca25-4b61-924f-1d0c5c0cdc27",
   "metadata": {},
   "outputs": [],
   "source": [
    "!conda create -n qml_env python=3.9\n",
    "!conda activate qml_env\n",
    "\n"
   ]
  },
  {
   "cell_type": "code",
   "execution_count": null,
   "id": "effeed40-8f87-4bc0-90cf-bd9dde75cf67",
   "metadata": {},
   "outputs": [],
   "source": [
    "!python -m venv my_qiskit_env"
   ]
  },
  {
   "cell_type": "code",
   "execution_count": null,
   "id": "202df7ce-a0e4-4faf-a02b-87e563f1d227",
   "metadata": {},
   "outputs": [],
   "source": [
    "!pip install ipykernel\n",
    "!python -m ipykernel install --user --name=my_qiskit_env --display-name=\"Python (Qiskit)\""
   ]
  },
  {
   "cell_type": "code",
   "execution_count": null,
   "id": "38461be5-f34c-45af-a93b-3f9c2356d57d",
   "metadata": {},
   "outputs": [],
   "source": [
    "import numpy as np\n",
    "import pandas as pd\n",
    "from sklearn.model_selection import train_test_split\n",
    "from sklearn.preprocessing import StandardScaler, LabelEncoder\n",
    "from qiskit.circuit.library import ZZFeatureMap\n",
    "from qiskit_machine_learning.algorithms import QSVC\n",
    "from qiskit_machine_learning.kernels import FidelityQuantumKernel\n",
    "from qiskit.primitives import Sampler\n",
    "from qiskit_algorithms.state_fidelities import ComputeUncompute\n",
    "\n",
    "\n",
    "X = df.drop(columns='Response')\n",
    "y = df['Response']\n",
    "\n",
    "# Split into training and test sets\n",
    "X_train, X_test, y_train, y_test = train_test_split(X, y, test_size=0.2, random_state=42)\n",
    "\n",
    "# Scale the data\n",
    "scaler = StandardScaler()\n",
    "X_train = scaler.fit_transform(X_train)\n",
    "X_test = scaler.transform(X_test)\n",
    "\n",
    "# Encode labels if categorical\n",
    "le = LabelEncoder()\n",
    "y_train = le.fit_transform(y_train)\n",
    "y_test = le.transform(y_test)\n",
    "\n",
    "# 2. Define Quantum Feature Map\n",
    "num_features = X_train.shape[1]\n",
    "feature_map = ZZFeatureMap(feature_dimension=num_features, reps=2)\n",
    "\n",
    "# 3. Create a Sampler for statevector simulation\n",
    "sampler = Sampler()\n",
    "\n",
    "# 4. Compute the fidelity using ComputeUncompute\n",
    "fidelity = ComputeUncompute(sampler=sampler)\n",
    "\n",
    "# 5. Create the Quantum Kernel\n",
    "quantum_kernel = FidelityQuantumKernel(feature_map=feature_map, fidelity=fidelity)\n",
    "\n",
    "# 6. Set up and train the QSVC\n",
    "qsvc = QSVC(quantum_kernel=quantum_kernel)\n",
    "qsvc.fit(X_train, y_train)\n",
    "\n",
    "# 7. Make predictions and evaluate the model\n",
    "y_pred = qsvc.predict(X_test)\n",
    "qsvc_score = qsvc.score(X_test, y_test)\n",
    "\n",
    "print(f\"Accuracy Score: {qsvc_score}\")\n",
    "\n",
    "# Display differences\n",
    "diff = pd.DataFrame(np.c_[y_test, y_pred], columns=[\"Actual value\", \"Predicted value\"])\n",
    "print(diff)\n"
   ]
  },
  {
   "cell_type": "code",
   "execution_count": null,
   "id": "c4221c0c-f543-452c-a8a5-1ebcda9bae68",
   "metadata": {},
   "outputs": [],
   "source": [
    "!pip uninstall qiskit qiskit-terra qiskit-machine-learning qiskit-algorithms -y"
   ]
  },
  {
   "cell_type": "code",
   "execution_count": null,
   "id": "55c0b7f1-0151-4894-912b-30b59490a418",
   "metadata": {},
   "outputs": [],
   "source": [
    "!conda remove qiskit qiskit-terra qiskit-machine-learning qiskit-algorithms -y"
   ]
  },
  {
   "cell_type": "code",
   "execution_count": null,
   "id": "8c86ff40-a6d7-4bc8-9e38-0fd01466d41b",
   "metadata": {},
   "outputs": [],
   "source": [
    "!pip install scikit-learn==1.2.2\n",
    "!pip install 'qiskit<1.0.0'\n",
    "!pip install 'qiskit-machine-learning<1.0.0'\n",
    "!pip install 'qiskit-algorithms<1.0.0'"
   ]
  },
  {
   "cell_type": "code",
   "execution_count": null,
   "id": "59087a38-0394-411b-8be6-d95473ca5ef6",
   "metadata": {},
   "outputs": [],
   "source": [
    "!pip install numpy==1.23.5\n",
    "!pip install pandas==1.5.3\n",
    "!pip install 'qiskit==0.42.0'\n",
    "!pip install 'qiskit-machine-learning==0.5.0'\n",
    "!pip install 'qiskit-algorithms==0.2.0'"
   ]
  },
  {
   "cell_type": "code",
   "execution_count": null,
   "id": "384b80db-9d1c-473c-87d6-5b81bccd3421",
   "metadata": {},
   "outputs": [],
   "source": [
    "import joblib\n",
    "joblib.dump(svm, \"model.joblib\")"
   ]
  },
  {
   "cell_type": "code",
   "execution_count": null,
   "id": "0189eb40-1617-4b77-83f9-0717caeb6d3c",
   "metadata": {},
   "outputs": [],
   "source": [
    "joblib.dump(preprocessor,\"preprocessor.joblib\")"
   ]
  },
  {
   "cell_type": "code",
   "execution_count": null,
   "id": "bd18b699-a300-4959-9b2c-60e37705be44",
   "metadata": {},
   "outputs": [],
   "source": []
  }
 ],
 "metadata": {
  "kernelspec": {
   "display_name": "Python (Qiskit)",
   "language": "python",
   "name": "my_qiskit_env"
  },
  "language_info": {
   "codemirror_mode": {
    "name": "ipython",
    "version": 3
   },
   "file_extension": ".py",
   "mimetype": "text/x-python",
   "name": "python",
   "nbconvert_exporter": "python",
   "pygments_lexer": "ipython3",
   "version": "3.11.7"
  }
 },
 "nbformat": 4,
 "nbformat_minor": 5
}
